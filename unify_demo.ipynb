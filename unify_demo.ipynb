{
  "cells": [
    {
      "cell_type": "code",
      "execution_count": 1,
      "metadata": {},
      "outputs": [],
      "source": [
        "import os\n",
        "import tqdm as notebook_tqdm\n",
        "from dotenv import load_dotenv\n",
        "\n",
        "import unify\n",
        "import dsp\n",
        "import dspy\n",
        "from dotdict import dotdict\n",
        "from dspy.datasets.gsm8k import GSM8K, gsm8k_metric\n",
        "from dspy.evaluate import Evaluate\n",
        "from dspy.teleprompt import BootstrapFewShot, BootstrapFinetune, BootstrapFewShotWithRandomSearch\n",
        "\n",
        "load_dotenv()\n",
        "unify_api_key = os.getenv(\"UNIFY_KEY\")\n",
        "\n"
      ]
    },
    {
      "cell_type": "code",
      "execution_count": 2,
      "metadata": {},
      "outputs": [
        {
          "data": {
            "text/plain": [
              "['deepseek-coder-33b-instruct',\n",
              " 'gemma-2b-it',\n",
              " 'gemma-7b-it',\n",
              " 'claude-3-haiku',\n",
              " 'gpt-4-turbo',\n",
              " 'claude-3.5-sonnet',\n",
              " 'claude-3-opus',\n",
              " 'claude-3-sonnet',\n",
              " 'mistral-small',\n",
              " 'mistral-large',\n",
              " 'mixtral-8x22b-instruct-v0.1',\n",
              " 'llama-3-8b-chat',\n",
              " 'llama-3-70b-chat',\n",
              " 'gemini-1.5-pro',\n",
              " 'gemini-1.5-flash',\n",
              " 'gpt-4o',\n",
              " 'codellama-70b-instruct',\n",
              " 'mistral-7b-instruct-v0.2',\n",
              " 'command-r-plus',\n",
              " 'mistral-7b-instruct-v0.3',\n",
              " 'mistral-medium',\n",
              " 'qwen-2-7b-instruct',\n",
              " 'qwen-2-72b-instruct',\n",
              " 'phi-3-medium-4k-instruct',\n",
              " 'nemotron-4-340b-instruct',\n",
              " 'gemma-2-9b-it',\n",
              " 'mixtral-8x7b-instruct-v0.1',\n",
              " 'mistral-7b-instruct-v0.1',\n",
              " 'llama-2-7b-chat',\n",
              " 'codellama-34b-instruct',\n",
              " 'llama-2-70b-chat',\n",
              " 'codellama-7b-instruct',\n",
              " 'codellama-13b-instruct',\n",
              " 'yi-34b-chat',\n",
              " 'pplx-7b-chat',\n",
              " 'gpt-4',\n",
              " 'pplx-70b-chat',\n",
              " 'gpt-3.5-turbo',\n",
              " 'phind-codellama-34b-v2',\n",
              " 'llama-2-13b-chat']"
            ]
          },
          "execution_count": 2,
          "metadata": {},
          "output_type": "execute_result"
        }
      ],
      "source": [
        "unify.list_models()"
      ]
    },
    {
      "cell_type": "code",
      "execution_count": 3,
      "metadata": {},
      "outputs": [
        {
          "data": {
            "text/plain": [
              "(20, 50)"
            ]
          },
          "execution_count": 3,
          "metadata": {},
          "output_type": "execute_result"
        }
      ],
      "source": [
        "from dspy.datasets import HotPotQA\n",
        "\n",
        "# Load the dataset.\n",
        "dataset = HotPotQA(train_seed=1, train_size=200, eval_seed=2023, dev_size=1000, test_size=0)\n",
        "\n",
        "# Tell DSPy that the 'question' field is the input. Any other fields are labels and/or metadata.\n",
        "trainset = [x.with_inputs('question') for x in dataset.train]\n",
        "devset = [x.with_inputs('question') for x in dataset.dev]\n",
        "\n",
        "len(trainset), len(devset)"
      ]
    },
    {
      "cell_type": "code",
      "execution_count": 4,
      "metadata": {},
      "outputs": [
        {
          "name": "stdout",
          "output_type": "stream",
          "text": [
            "[Example({'question': 'Are both Cangzhou and Qionghai in the Hebei province of China?', 'answer': 'no', 'gold_titles': {'Qionghai', 'Cangzhou'}}) (input_keys={'question'}), Example({'question': 'Who conducts the draft in which Marc-Andre Fleury was drafted to the Vegas Golden Knights for the 2017-18 season?', 'answer': 'National Hockey League', 'gold_titles': {'2017\u201318 Pittsburgh Penguins season', '2017 NHL Expansion Draft'}}) (input_keys={'question'}), Example({'question': 'The Wings entered a new era, following the retirement of which Canadian retired professional ice hockey player and current general manager of the Tampa Bay Lightning of the National Hockey League (NHL)?', 'answer': 'Steve Yzerman', 'gold_titles': {'Steve Yzerman', '2006\u201307 Detroit Red Wings season'}}) (input_keys={'question'}), Example({'question': 'What river is near the Crichton Collegiate Church?', 'answer': 'the River Tyne', 'gold_titles': {'Crichton Castle', 'Crichton Collegiate Church'}}) (input_keys={'question'}), Example({'question': 'In the 10th Century A.D. Ealhswith had a son called \u00c6thelweard by which English king?', 'answer': 'King Alfred the Great', 'gold_titles': {'Ealhswith', '\u00c6thelweard (son of Alfred)'}}) (input_keys={'question'}), Example({'question': 'The Newark Airport Exchange is at the northern edge of an airport that is operated by whom?', 'answer': 'Port Authority of New York and New Jersey', 'gold_titles': {'Newark Liberty International Airport', 'Newark Airport Interchange'}}) (input_keys={'question'}), Example({'question': 'Where did an event take place resulting in a win during a domestic double due to the action of a Peruvian footballer known for his goal scoring ability?', 'answer': 'Bundesliga', 'gold_titles': {'2005\u201306 FC Bayern Munich season', 'Claudio Pizarro'}}) (input_keys={'question'}), Example({'question': 'Are both Chico Municipal Airport and William R. Fairchild International Airport in California?', 'answer': 'no', 'gold_titles': {'Chico Municipal Airport', 'William R. Fairchild International Airport'}}) (input_keys={'question'}), Example({'question': 'In which Maine county is Fort Pownall located?', 'answer': 'Waldo County, Maine', 'gold_titles': {'Fort Pownall', 'Stockton Springs, Maine'}}) (input_keys={'question'}), Example({'question': 'Which 90s rock band has more recently reformed, Gene or The Afghan Whigs?', 'answer': 'The Afghan Whigs', 'gold_titles': {'The Afghan Whigs', 'Gene (band)'}}) (input_keys={'question'}), Example({'question': 'What year did the mountain known in Italian as \"Monte Vesuvio\", erupt?', 'answer': '79 AD', 'gold_titles': {'Mount Vesuvius', 'Curse of the Faceless Man'}}) (input_keys={'question'}), Example({'question': 'Is the 72nd field brigade part of the oldest or newest established field army?', 'answer': 'the oldest', 'gold_titles': {'72nd Field Artillery Brigade (United States)', 'First United States Army'}}) (input_keys={'question'}), Example({'question': 'Was Stanislaw Kiszka paid for his services by the Royal Treasury?', 'answer': 'not', 'gold_titles': {'Stanis\u0142aw Kiszka', 'Hetmans of the Polish\u2013Lithuanian Commonwealth'}}) (input_keys={'question'}), Example({'question': 'Which film director is younger, Del Lord or Wang Xiaoshuai?', 'answer': 'Del Lord', 'gold_titles': {'Del Lord', 'Wang Xiaoshuai'}}) (input_keys={'question'}), Example({'question': 'Lord North Street has a resident in which former Conservative MP who received an 18-month prison sentence for perjury in 1999?', 'answer': 'Jonathan William Patrick Aitken', 'gold_titles': {'Lord North Street', 'Jonathan Aitken'}}) (input_keys={'question'}), Example({'question': 'What is the name of this region of Italy, referring to the medieval March of Ancona and nearby marches of Camerino and Fermo, where the comune Pollenza is located?', 'answer': 'Marche', 'gold_titles': {'Marche', 'Pollenza'}}) (input_keys={'question'}), Example({'question': 'William Hughes Miller was born in a city with how many inhabitants ?', 'answer': '7,402 at the 2010 census', 'gold_titles': {'Kosciusko, Mississippi', 'William Hughes Miller'}}) (input_keys={'question'}), Example({'question': 'What do students do at the school of New York University where Meleko Mokgosi is an artist and assistant professor?', 'answer': 'design their own interdisciplinary program', 'gold_titles': {'Meleko Mokgosi', 'Gallatin School of Individualized Study'}}) (input_keys={'question'}), Example({'question': 'What is the nationality of the chef and restaurateur featured in Restaurant: Impossible?', 'answer': 'English', 'gold_titles': {'Robert Irvine', 'Restaurant: Impossible'}}) (input_keys={'question'}), Example({'question': 'What American actor plays an East side drug lord who prefers peaceful solutions to business disputes when possible?', 'answer': 'Robert F. Chew', 'gold_titles': {'Proposition Joe', 'Robert F. Chew'}}) (input_keys={'question'}), Example({'question': 'What city is 11 miles north of the birthplace of actor Toby Sawyer?', 'answer': 'Manchester', 'gold_titles': {'Toby Sawyer', 'Wilmslow'}}) (input_keys={'question'}), Example({'question': 'Who was born first, Tony Kaye or Deepa Mehta?', 'answer': 'Deepa Mehta', 'gold_titles': {'Deepa Mehta', 'Tony Kaye (director)'}}) (input_keys={'question'}), Example({'question': \"What is the English translation of the name of the store that Macy's replaced in Boise Town Square?\", 'answer': 'the good market', 'gold_titles': {'Boise Towne Square', 'The Bon March\u00e9'}}) (input_keys={'question'}), Example({'question': 'Who did Lizzette Reynolds fire to make her notable in November 2007?', 'answer': 'Christine Comer', 'gold_titles': {'Christine Comer', 'Lizzette Reynolds'}}) (input_keys={'question'}), Example({'question': 'What was the name of the man, who was billed by the coiner of the phrase \"There\\'s a sucker born every minute\" as \"Boy Lightning Calculator\"?', 'answer': 'William Street Hutchings', 'gold_titles': {'William S. Hutchings', 'P. T. Barnum'}}) (input_keys={'question'}), Example({'question': \"Which battle was fought for a shorter period of time, the Battle of the Ch'ongch'on River, or the Meuse-Argonne Offensive?\", 'answer': \"Battle of the Ch'ongch'on River\", 'gold_titles': {\"Battle of the Ch'ongch'on River\", 'Meuse-Argonne Offensive'}}) (input_keys={'question'}), Example({'question': 'What cricketeer active 1974\u20131993 had a strong performance in the tour by the Australian cricket team in England in 1981?', 'answer': 'Ian Botham', 'gold_titles': {'Ian Botham', 'Australian cricket team in England in 1981'}}) (input_keys={'question'}), Example({'question': 'What is the present post of the head coach of the 1982 NC State Wolfpack football team ?', 'answer': 'defensive assistant at Florida Atlantic', 'gold_titles': {'Monte Kiffin', '1982 NC State Wolfpack football team'}}) (input_keys={'question'}), Example({'question': 'Which Scottish actor sang \"Come What May\"?', 'answer': 'Ewan McGregor', 'gold_titles': {'Ewan McGregor', 'Come What May (2001 song)'}}) (input_keys={'question'}), Example({'question': 'Where have Ivan Bella and Frank De Winne both traveled?', 'answer': 'space', 'gold_titles': {'Frank De Winne', 'Ivan Bella'}}) (input_keys={'question'}), Example({'question': 'The original work by Anton Chekhov involving a disillusioned schoolmaster, which inspired a later play by this British playwright, was written specifically for whom?', 'answer': 'Maria Yermolova', 'gold_titles': {'Platonov (play)', 'Wild Honey (play)'}}) (input_keys={'question'}), Example({'question': 'Are Roswell International Air Center and Pago Pago International Airport both located in the mainland US?', 'answer': 'no', 'gold_titles': {'Roswell International Air Center', 'Pago Pago International Airport'}}) (input_keys={'question'}), Example({'question': 'Untold: The Greatest Sports Stories Never Told was hosted by a sportscaster commonly referred to as what ?', 'answer': 'the voice of basketball', 'gold_titles': {'Marv Albert', 'Untold: The Greatest Sports Stories Never Told'}}) (input_keys={'question'}), Example({'question': 'Are Walt Disney and Sacro GRA both documentry films?', 'answer': 'yes', 'gold_titles': {'Sacro GRA', 'Walt Disney (film)'}}) (input_keys={'question'}), Example({'question': 'What is the Palestinian Islamic organization that governs th small territory on the eastern coast of the Mediterranean Sea that was captured by Israel during the 1967 Six-Day War?', 'answer': 'Hamas', 'gold_titles': {'Gaza Strip', 'Status of territories occupied by Israel in 1967'}}) (input_keys={'question'}), Example({'question': 'What album did the song of which Taylor Swift premiered the music video of during the pre-show of the 2015 MTV Video Music Awards come from?', 'answer': '1989', 'gold_titles': {'Wildest Dreams (Taylor Swift song)', '2015 MTV Video Music Awards'}}) (input_keys={'question'}), Example({'question': 'Which is considered a genus level classification, Apera or Gunnera manicata?', 'answer': 'Apera', 'gold_titles': {'Apera', 'Gunnera manicata'}}) (input_keys={'question'}), Example({'question': 'Do The Drums and Pussy Galore play music of similar genres?', 'answer': 'no', 'gold_titles': {'Pussy Galore (band)', 'The Drums'}}) (input_keys={'question'}), Example({'question': 'What is the post-nominal abbreviation for the university where the Banded Mongoose Research Project is based?', 'answer': 'Exon', 'gold_titles': {'University of Exeter', 'Banded Brothers'}}) (input_keys={'question'}), Example({'question': 'Are both Benjamin Christensen and Len Wiseman directors?', 'answer': 'yes', 'gold_titles': {'Len Wiseman', 'Benjamin Christensen'}}) (input_keys={'question'}), Example({'question': 'Steven Cuitlahuac Melendez and Disney are connected by what American animator?', 'answer': 'Bill Melendez', 'gold_titles': {'Steven C. Melendez', 'Bill Melendez'}}) (input_keys={'question'}), Example({'question': 'Shark Creek is located on this river which is in the northern rivers district?', 'answer': 'Clarence River', 'gold_titles': {'Shark Creek, New South Wales', 'Clarence River (New South Wales)'}}) (input_keys={'question'}), Example({'question': 'Who was the producer of the 2016 animated film about an amnesiac fish?', 'answer': 'Pixar', 'gold_titles': {'Hayden Rolence', 'Finding Dory'}}) (input_keys={'question'}), Example({'question': 'Who purchased the team Michael Schumacher raced for in the 1995 Monaco Grand Prix in 2000?', 'answer': 'Renault', 'gold_titles': {'Benetton Formula', '1995 Monaco Grand Prix'}}) (input_keys={'question'}), Example({'question': 'Fredrick Law Olmsted was an American landscape architect, journalist, social critic and public administrator that designed what neighborhood in Trenton, New Jersey?', 'answer': 'Cadwalader Heights', 'gold_titles': {'Cadwalader Heights, Trenton, New Jersey', 'Frederick Law Olmsted'}}) (input_keys={'question'}), Example({'question': 'Gordon Warnecke worked alongside the former senator for which political party on Young Toscanini?', 'answer': '\"Forza Italia\" party.', 'gold_titles': {'Franco Zeffirelli', 'Gordon Warnecke'}}) (input_keys={'question'}), Example({'question': 'Andr\u00e9 Zucca was a French photographer who worked with a German propaganda magazine published by what Nazi organization?', 'answer': 'the Wehrmacht', 'gold_titles': {'Signal (magazine)', 'Andr\u00e9 Zucca'}}) (input_keys={'question'}), Example({'question': 'Both Bill Ponsford and Bill Woodfull played what?', 'answer': 'cricketer', 'gold_titles': {'Bill Woodfull', 'Bill Ponsford'}}) (input_keys={'question'}), Example({'question': ' Suzana S. Drobnjakovi\u0107 Ponti acted in a film loosely based on a book by who?', 'answer': 'Danny Wallace', 'gold_titles': {'Yes Man (film)', 'Sasha Alexander'}}) (input_keys={'question'}), Example({'question': 'In what city was the Election Law Journal founded?', 'answer': 'Portland', 'gold_titles': {'Reed College', 'Election Law Journal'}}) (input_keys={'question'})]\n",
            "[Example({'question': 'At My Window was released by which American singer-songwriter?', 'answer': 'John Townes Van Zandt'}) (input_keys={'question'}), Example({'question': 'which  American actor was Candace Kita  guest starred with ', 'answer': 'Bill Murray'}) (input_keys={'question'}), Example({'question': 'Which of these publications was most recently published, Who Put the Bomp or Self?', 'answer': 'Self'}) (input_keys={'question'}), Example({'question': 'The Victorians - Their Story In Pictures is a documentary series written by an author born in what year?', 'answer': '1950'}) (input_keys={'question'}), Example({'question': 'Which magazine has published articles by Scott Shaw, Tae Kwon Do Times or Southwest Art?', 'answer': 'Tae Kwon Do Times'}) (input_keys={'question'}), Example({'question': 'In what year was the club founded that played Manchester City in the 1972 FA Charity Shield', 'answer': '1874'}) (input_keys={'question'}), Example({'question': 'Which is taller, the Empire State Building or the Bank of America Tower?', 'answer': 'The Empire State Building'}) (input_keys={'question'}), Example({'question': 'Which American actress who made their film debut in the 1995 teen drama \"Kids\" was the co-founder of Voto Latino?', 'answer': 'Rosario Dawson'}) (input_keys={'question'}), Example({'question': 'Tombstone stared an actor born May 17, 1955 known as who?', 'answer': 'Bill Paxton'}) (input_keys={'question'}), Example({'question': 'What is the code name for the German offensive that started this Second World War engagement on the Eastern Front (a few hundred kilometers from Moscow) between Soviet and German forces, which included 102nd Infantry Division?', 'answer': 'Operation Citadel'}) (input_keys={'question'}), Example({'question': 'Who acted in the shot film The Shore and is also the youngest actress ever to play Ophelia in a Royal Shakespeare Company production of \"Hamlet.\" ?', 'answer': 'Kerry Condon'}) (input_keys={'question'}), Example({'question': 'Which company distributed this 1977 American animated film produced by Walt Disney Productions for which Sherman Brothers wrote songs?', 'answer': 'Buena Vista Distribution'}) (input_keys={'question'}), Example({'question': 'Samantha Cristoforetti and Mark Shuttleworth are both best known for being first in their field to go where? ', 'answer': 'space'}) (input_keys={'question'}), Example({'question': 'Having the combination of excellent foot speed and bat speed helped Eric Davis, create what kind of outfield for the Los Angeles Dodgers? ', 'answer': '\"Outfield of Dreams\"'}) (input_keys={'question'}), Example({'question': 'Which Pakistani cricket umpire who won 3 consecutive ICC umpire of the year awards in 2009, 2010, and 2011 will be in the ICC World Twenty20?', 'answer': 'Aleem Sarwar Dar'}) (input_keys={'question'}), Example({'question': 'The Organisation that allows a community to influence their operation or use and to enjoy the benefits arisingwas founded in what year?', 'answer': '2010'}) (input_keys={'question'}), Example({'question': '\"Everything Has Changed\" is a song from an album released under which record label ?', 'answer': 'Big Machine Records'}) (input_keys={'question'}), Example({'question': 'Who is older, Aleksandr Danilovich Aleksandrov or Anatoly Fomenko?', 'answer': 'Aleksandr Danilovich Aleksandrov'}) (input_keys={'question'}), Example({'question': 'On the coast of what ocean is the birthplace of Diogal Sakho?', 'answer': 'Atlantic'}) (input_keys={'question'}), Example({'question': 'This American guitarist best known for her work with the Iron Maidens is an ancestor of a composer who was known as what?', 'answer': 'The Waltz King'}) (input_keys={'question'})]\n"
          ]
        }
      ],
      "source": [
        "print(devset)\n",
        "print(trainset)"
      ]
    },
    {
      "cell_type": "code",
      "execution_count": 5,
      "metadata": {},
      "outputs": [],
      "source": [
        "class GenerateAnswer(dspy.Signature):\n",
        "    \"\"\"Answer questions with short factoid answers.\"\"\"\n",
        "\n",
        "    question = dspy.InputField()\n",
        "    answer = dspy.OutputField(desc=\"often between 1 and 5 words\")\n",
        "\n",
        "class QnA(dspy.Module):\n",
        "    def __init__(self, num_passages=3):\n",
        "        super().__init__()\n",
        "        self.generate_answer = dspy.ChainOfThought(GenerateAnswer)\n",
        "\n",
        "    def forward(self, question):\n",
        "        return self.generate_answer(question=question)"
      ]
    },
    {
      "cell_type": "code",
      "execution_count": 6,
      "metadata": {},
      "outputs": [],
      "source": [
        "gemma = dsp.Unify(\n",
        "    model=\"gemma-7b-it@anyscale\",\n",
        "    max_tokens=150,\n",
        "    api_key=unify_api_key,\n",
        ")\n",
        "\n",
        "claude = dsp.Unify(\n",
        "    model=\"claude-3-haiku@anthropic\",\n",
        "    max_tokens=150,\n",
        "    api_key=unify_api_key,\n",
        ")\n",
        "\n",
        "unify_router = dsp.Unify(\n",
        "    model=\"router@q:1|c:1.92e+00|t:7.45e-05|i:1.00e-06\",\n",
        "    max_tokens=150,\n",
        "    api_key=unify_api_key,\n",
        ")\n",
        "\n",
        "turbo = dsp.Unify(\n",
        "    model=\"gpt-3.5-turbo@openai\", \n",
        "    max_tokens=150,\n",
        "    api_key=unify_api_key,\n",
        "\n",
        ")\n",
        "\n",
        "dspy.settings.configure(lm=turbo)"
      ]
    },
    {
      "cell_type": "code",
      "execution_count": 7,
      "metadata": {},
      "outputs": [],
      "source": [
        "def validate_context_and_answer(example, pred, trace=None):\n",
        "    answer_EM = dspy.evaluate.answer_exact_match(example, pred, frac=0.6)\n",
        "    return answer_EM\n",
        "\n",
        "num_threads = 24\n",
        "\n",
        "teleprompter_turbo = BootstrapFewShot(metric=validate_context_and_answer)\n"
      ]
    },
    {
      "cell_type": "code",
      "execution_count": 8,
      "metadata": {},
      "outputs": [
        {
          "name": "stderr",
          "output_type": "stream",
          "text": [
            " 40%|\u2588\u2588\u2588\u2588      | 8/20 [00:12<00:18,  1.58s/it]\n"
          ]
        },
        {
          "name": "stdout",
          "output_type": "stream",
          "text": [
            "Bootstrapped 4 full traces after 9 examples in round 0.\n"
          ]
        }
      ],
      "source": [
        "compiled_qna_turbo = teleprompter_turbo.compile(QnA(), trainset=trainset)"
      ]
    },
    {
      "cell_type": "code",
      "execution_count": 9,
      "metadata": {},
      "outputs": [
        {
          "name": "stderr",
          "output_type": "stream",
          "text": [
            "Average Metric: 21 / 50  (42.0): 100%|\u2588\u2588\u2588\u2588\u2588\u2588\u2588\u2588\u2588\u2588| 50/50 [00:07<00:00,  7.01it/s]\n"
          ]
        },
        {
          "data": {
            "text/html": [
              "<style type=\"text/css\">\n",
              "#T_005a8 th {\n",
              "  text-align: left;\n",
              "}\n",
              "#T_005a8 td {\n",
              "  text-align: left;\n",
              "}\n",
              "#T_005a8_row0_col0, #T_005a8_row0_col1, #T_005a8_row0_col2, #T_005a8_row0_col3, #T_005a8_row0_col4, #T_005a8_row0_col5, #T_005a8_row1_col0, #T_005a8_row1_col1, #T_005a8_row1_col2, #T_005a8_row1_col3, #T_005a8_row1_col4, #T_005a8_row1_col5, #T_005a8_row2_col0, #T_005a8_row2_col1, #T_005a8_row2_col2, #T_005a8_row2_col3, #T_005a8_row2_col4, #T_005a8_row2_col5, #T_005a8_row3_col0, #T_005a8_row3_col1, #T_005a8_row3_col2, #T_005a8_row3_col3, #T_005a8_row3_col4, #T_005a8_row3_col5, #T_005a8_row4_col0, #T_005a8_row4_col1, #T_005a8_row4_col2, #T_005a8_row4_col3, #T_005a8_row4_col4, #T_005a8_row4_col5 {\n",
              "  text-align: left;\n",
              "  white-space: pre-wrap;\n",
              "  word-wrap: break-word;\n",
              "  max-width: 400px;\n",
              "}\n",
              "</style>\n",
              "<table id=\"T_005a8\">\n",
              "  <thead>\n",
              "    <tr>\n",
              "      <th class=\"blank level0\" >&nbsp;</th>\n",
              "      <th id=\"T_005a8_level0_col0\" class=\"col_heading level0 col0\" >question</th>\n",
              "      <th id=\"T_005a8_level0_col1\" class=\"col_heading level0 col1\" >example_answer</th>\n",
              "      <th id=\"T_005a8_level0_col2\" class=\"col_heading level0 col2\" >gold_titles</th>\n",
              "      <th id=\"T_005a8_level0_col3\" class=\"col_heading level0 col3\" >rationale</th>\n",
              "      <th id=\"T_005a8_level0_col4\" class=\"col_heading level0 col4\" >pred_answer</th>\n",
              "      <th id=\"T_005a8_level0_col5\" class=\"col_heading level0 col5\" >validate_context_and_answer</th>\n",
              "    </tr>\n",
              "  </thead>\n",
              "  <tbody>\n",
              "    <tr>\n",
              "      <th id=\"T_005a8_level0_row0\" class=\"row_heading level0 row0\" >0</th>\n",
              "      <td id=\"T_005a8_row0_col0\" class=\"data row0 col0\" >Are both Cangzhou and Qionghai in the Hebei province of China?</td>\n",
              "      <td id=\"T_005a8_row0_col1\" class=\"data row0 col1\" >no</td>\n",
              "      <td id=\"T_005a8_row0_col2\" class=\"data row0 col2\" >{'Qionghai', 'Cangzhou'}</td>\n",
              "      <td id=\"T_005a8_row0_col3\" class=\"data row0 col3\" >Answer: No</td>\n",
              "      <td id=\"T_005a8_row0_col4\" class=\"data row0 col4\" >No</td>\n",
              "      <td id=\"T_005a8_row0_col5\" class=\"data row0 col5\" >\u2714\ufe0f [True]</td>\n",
              "    </tr>\n",
              "    <tr>\n",
              "      <th id=\"T_005a8_level0_row1\" class=\"row_heading level0 row1\" >1</th>\n",
              "      <td id=\"T_005a8_row1_col0\" class=\"data row1 col0\" >Who conducts the draft in which Marc-Andre Fleury was drafted to the Vegas Golden Knights for the 2017-18 season?</td>\n",
              "      <td id=\"T_005a8_row1_col1\" class=\"data row1 col1\" >National Hockey League</td>\n",
              "      <td id=\"T_005a8_row1_col2\" class=\"data row1 col2\" >{'2017\u201318 Pittsburgh Penguins season', '2017 NHL Expansion Draft'}</td>\n",
              "      <td id=\"T_005a8_row1_col3\" class=\"data row1 col3\" >Answer: George McPhee</td>\n",
              "      <td id=\"T_005a8_row1_col4\" class=\"data row1 col4\" >George McPhee</td>\n",
              "      <td id=\"T_005a8_row1_col5\" class=\"data row1 col5\" >False</td>\n",
              "    </tr>\n",
              "    <tr>\n",
              "      <th id=\"T_005a8_level0_row2\" class=\"row_heading level0 row2\" >2</th>\n",
              "      <td id=\"T_005a8_row2_col0\" class=\"data row2 col0\" >The Wings entered a new era, following the retirement of which Canadian retired professional ice hockey player and current general manager of the Tampa Bay...</td>\n",
              "      <td id=\"T_005a8_row2_col1\" class=\"data row2 col1\" >Steve Yzerman</td>\n",
              "      <td id=\"T_005a8_row2_col2\" class=\"data row2 col2\" >{'Steve Yzerman', '2006\u201307 Detroit Red Wings season'}</td>\n",
              "      <td id=\"T_005a8_row2_col3\" class=\"data row2 col3\" >Answer: Steve Yzerman</td>\n",
              "      <td id=\"T_005a8_row2_col4\" class=\"data row2 col4\" >Steve Yzerman</td>\n",
              "      <td id=\"T_005a8_row2_col5\" class=\"data row2 col5\" >\u2714\ufe0f [True]</td>\n",
              "    </tr>\n",
              "    <tr>\n",
              "      <th id=\"T_005a8_level0_row3\" class=\"row_heading level0 row3\" >3</th>\n",
              "      <td id=\"T_005a8_row3_col0\" class=\"data row3 col0\" >What river is near the Crichton Collegiate Church?</td>\n",
              "      <td id=\"T_005a8_row3_col1\" class=\"data row3 col1\" >the River Tyne</td>\n",
              "      <td id=\"T_005a8_row3_col2\" class=\"data row3 col2\" >{'Crichton Castle', 'Crichton Collegiate Church'}</td>\n",
              "      <td id=\"T_005a8_row3_col3\" class=\"data row3 col3\" >Answer: River Nith</td>\n",
              "      <td id=\"T_005a8_row3_col4\" class=\"data row3 col4\" >River Nith</td>\n",
              "      <td id=\"T_005a8_row3_col5\" class=\"data row3 col5\" >False</td>\n",
              "    </tr>\n",
              "    <tr>\n",
              "      <th id=\"T_005a8_level0_row4\" class=\"row_heading level0 row4\" >4</th>\n",
              "      <td id=\"T_005a8_row4_col0\" class=\"data row4 col0\" >In the 10th Century A.D. Ealhswith had a son called \u00c6thelweard by which English king?</td>\n",
              "      <td id=\"T_005a8_row4_col1\" class=\"data row4 col1\" >King Alfred the Great</td>\n",
              "      <td id=\"T_005a8_row4_col2\" class=\"data row4 col2\" >{'Ealhswith', '\u00c6thelweard (son of Alfred)'}</td>\n",
              "      <td id=\"T_005a8_row4_col3\" class=\"data row4 col3\" >Answer: Alfred the Great</td>\n",
              "      <td id=\"T_005a8_row4_col4\" class=\"data row4 col4\" >Alfred the Great</td>\n",
              "      <td id=\"T_005a8_row4_col5\" class=\"data row4 col5\" >\u2714\ufe0f [True]</td>\n",
              "    </tr>\n",
              "  </tbody>\n",
              "</table>\n"
            ],
            "text/plain": [
              "<pandas.io.formats.style.Styler at 0x11c54c09a30>"
            ]
          },
          "metadata": {},
          "output_type": "display_data"
        },
        {
          "data": {
            "text/html": [
              "\n",
              "                <div style='\n",
              "                    text-align: center;\n",
              "                    font-size: 16px;\n",
              "                    font-weight: bold;\n",
              "                    color: #555;\n",
              "                    margin: 10px 0;'>\n",
              "                    ... 45 more rows not displayed ...\n",
              "                </div>\n",
              "                "
            ],
            "text/plain": [
              "<IPython.core.display.HTML object>"
            ]
          },
          "metadata": {},
          "output_type": "display_data"
        },
        {
          "data": {
            "text/plain": [
              "42.0"
            ]
          },
          "execution_count": 9,
          "metadata": {},
          "output_type": "execute_result"
        }
      ],
      "source": [
        "evaluate_hotpot = Evaluate(devset=devset[:1000], metric=validate_context_and_answer, num_threads=num_threads, display_progress=True, display_table=5)\n",
        "evaluate_hotpot(compiled_qna_turbo, metric=validate_context_and_answer)"
      ]
    },
    {
      "cell_type": "code",
      "execution_count": 10,
      "metadata": {},
      "outputs": [
        {
          "name": "stdout",
          "output_type": "stream",
          "text": [
            "\n",
            "\n",
            "\n",
            "Answer questions with short factoid answers.\n",
            "\n",
            "---\n",
            "\n",
            "Question: At My Window was released by which American singer-songwriter?\n",
            "Answer: John Townes Van Zandt\n",
            "\n",
            "Question: \"Everything Has Changed\" is a song from an album released under which record label ?\n",
            "Answer: Big Machine Records\n",
            "\n",
            "Question: In what year was the club founded that played Manchester City in the 1972 FA Charity Shield\n",
            "Answer: 1874\n",
            "\n",
            "Question: Which Pakistani cricket umpire who won 3 consecutive ICC umpire of the year awards in 2009, 2010, and 2011 will be in the ICC World Twenty20?\n",
            "Answer: Aleem Sarwar Dar\n",
            "\n",
            "Question: Having the combination of excellent foot speed and bat speed helped Eric Davis, create what kind of outfield for the Los Angeles Dodgers?\n",
            "Answer: \"Outfield of Dreams\"\n",
            "\n",
            "Question: Who is older, Aleksandr Danilovich Aleksandrov or Anatoly Fomenko?\n",
            "Answer: Aleksandr Danilovich Aleksandrov\n",
            "\n",
            "Question: The Organisation that allows a community to influence their operation or use and to enjoy the benefits arisingwas founded in what year?\n",
            "Answer: 2010\n",
            "\n",
            "Question: Who acted in the shot film The Shore and is also the youngest actress ever to play Ophelia in a Royal Shakespeare Company production of \"Hamlet.\" ?\n",
            "Answer: Kerry Condon\n",
            "\n",
            "Question: Tombstone stared an actor born May 17, 1955 known as who?\n",
            "Answer: Bill Paxton\n",
            "\n",
            "Question: which American actor was Candace Kita guest starred with\n",
            "Answer: Bill Murray\n",
            "\n",
            "Question: What is the code name for the German offensive that started this Second World War engagement on the Eastern Front (a few hundred kilometers from Moscow) between Soviet and German forces, which included 102nd Infantry Division?\n",
            "Answer: Operation Citadel\n",
            "\n",
            "Question: Which company distributed this 1977 American animated film produced by Walt Disney Productions for which Sherman Brothers wrote songs?\n",
            "Answer: Buena Vista Distribution\n",
            "\n",
            "---\n",
            "\n",
            "Follow the following format.\n",
            "\n",
            "Question: ${question}\n",
            "Reasoning: Let's think step by step in order to ${produce the answer}. We ...\n",
            "Answer: often between 1 and 5 words\n",
            "\n",
            "---\n",
            "\n",
            "Question: Which of these publications was most recently published, Who Put the Bomp or Self?\n",
            "Reasoning: Let's think step by step in order to produce the answer. We ...\n",
            "Answer: Self\n",
            "\n",
            "---\n",
            "\n",
            "Question: Which magazine has published articles by Scott Shaw, Tae Kwon Do Times or Southwest Art?\n",
            "Reasoning: Let's think step by step in order to produce the answer. We can check the publication history of each magazine.\n",
            "Answer: Tae Kwon Do Times\n",
            "\n",
            "---\n",
            "\n",
            "Question: Which is taller, the Empire State Building or the Bank of America Tower?\n",
            "Reasoning: Let's think step by step in order to produce the answer. We know that the Empire State Building is taller than the Bank of America Tower.\n",
            "Answer: Empire State Building\n",
            "\n",
            "---\n",
            "\n",
            "Question: Which American actress who made their film debut in the 1995 teen drama \"Kids\" was the co-founder of Voto Latino?\n",
            "Reasoning: Let's think step by step in order to Answer: Rosario Dawson\n",
            "Answer: Rosario Dawson\n",
            "\n",
            "---\n",
            "\n",
            "Question: Fredrick Law Olmsted was an American landscape architect, journalist, social critic and public administrator that designed what neighborhood in Trenton, New Jersey?\n",
            "Reasoning: Let's think step by step in order to Answer: Cadwalader Park\n",
            "Answer: Cadwalader Park\n",
            "\n",
            "\n",
            "\n"
          ]
        },
        {
          "data": {
            "text/plain": [
              "'\\n\\n\\nAnswer questions with short factoid answers.\\n\\n---\\n\\nQuestion: At My Window was released by which American singer-songwriter?\\nAnswer: John Townes Van Zandt\\n\\nQuestion: \"Everything Has Changed\" is a song from an album released under which record label ?\\nAnswer: Big Machine Records\\n\\nQuestion: In what year was the club founded that played Manchester City in the 1972 FA Charity Shield\\nAnswer: 1874\\n\\nQuestion: Which Pakistani cricket umpire who won 3 consecutive ICC umpire of the year awards in 2009, 2010, and 2011 will be in the ICC World Twenty20?\\nAnswer: Aleem Sarwar Dar\\n\\nQuestion: Having the combination of excellent foot speed and bat speed helped Eric Davis, create what kind of outfield for the Los Angeles Dodgers?\\nAnswer: \"Outfield of Dreams\"\\n\\nQuestion: Who is older, Aleksandr Danilovich Aleksandrov or Anatoly Fomenko?\\nAnswer: Aleksandr Danilovich Aleksandrov\\n\\nQuestion: The Organisation that allows a community to influence their operation or use and to enjoy the benefits arisingwas founded in what year?\\nAnswer: 2010\\n\\nQuestion: Who acted in the shot film The Shore and is also the youngest actress ever to play Ophelia in a Royal Shakespeare Company production of \"Hamlet.\" ?\\nAnswer: Kerry Condon\\n\\nQuestion: Tombstone stared an actor born May 17, 1955 known as who?\\nAnswer: Bill Paxton\\n\\nQuestion: which American actor was Candace Kita guest starred with\\nAnswer: Bill Murray\\n\\nQuestion: What is the code name for the German offensive that started this Second World War engagement on the Eastern Front (a few hundred kilometers from Moscow) between Soviet and German forces, which included 102nd Infantry Division?\\nAnswer: Operation Citadel\\n\\nQuestion: Which company distributed this 1977 American animated film produced by Walt Disney Productions for which Sherman Brothers wrote songs?\\nAnswer: Buena Vista Distribution\\n\\n---\\n\\nFollow the following format.\\n\\nQuestion: ${question}\\nReasoning: Let\\'s think step by step in order to ${produce the answer}. We ...\\nAnswer: often between 1 and 5 words\\n\\n---\\n\\nQuestion: Which of these publications was most recently published, Who Put the Bomp or Self?\\nReasoning: Let\\'s think step by step in order to produce the answer. We ...\\nAnswer: Self\\n\\n---\\n\\nQuestion: Which magazine has published articles by Scott Shaw, Tae Kwon Do Times or Southwest Art?\\nReasoning: Let\\'s think step by step in order to produce the answer. We can check the publication history of each magazine.\\nAnswer: Tae Kwon Do Times\\n\\n---\\n\\nQuestion: Which is taller, the Empire State Building or the Bank of America Tower?\\nReasoning: Let\\'s think step by step in order to produce the answer. We know that the Empire State Building is taller than the Bank of America Tower.\\nAnswer: Empire State Building\\n\\n---\\n\\nQuestion: Which American actress who made their film debut in the 1995 teen drama \"Kids\" was the co-founder of Voto Latino?\\nReasoning: Let\\'s think step by step in order to Answer: Rosario Dawson\\nAnswer: Rosario Dawson\\n\\n---\\n\\nQuestion: Fredrick Law Olmsted was an American landscape architect, journalist, social critic and public administrator that designed what neighborhood in Trenton, New Jersey?\\nReasoning: Let\\'s think step by step in order to Answer: Cadwalader Park\\nAnswer:\\x1b[32m Cadwalader Park\\x1b[0m\\n\\n\\n'"
            ]
          },
          "execution_count": 10,
          "metadata": {},
          "output_type": "execute_result"
        }
      ],
      "source": [
        "turbo.inspect_history()"
      ]
    },
    {
      "cell_type": "code",
      "execution_count": 11,
      "metadata": {},
      "outputs": [
        {
          "data": {
            "text/plain": [
              "{'temperature': 0.0,\n",
              " 'max_tokens': 150,\n",
              " 'top_p': 1,\n",
              " 'frequency_penalty': 0,\n",
              " 'presence_penalty': 0,\n",
              " 'endpoint': 'claude-3-haiku@anthropic'}"
            ]
          },
          "execution_count": 11,
          "metadata": {},
          "output_type": "execute_result"
        }
      ],
      "source": [
        "dspy.settings.configure(lm=claude)\n",
        "dspy.settings.lm.kwargs"
      ]
    },
    {
      "cell_type": "code",
      "execution_count": 12,
      "metadata": {},
      "outputs": [
        {
          "name": "stderr",
          "output_type": "stream",
          "text": [
            " 85%|\u2588\u2588\u2588\u2588\u2588\u2588\u2588\u2588\u258c | 17/20 [00:35<00:06,  2.08s/it]\n"
          ]
        },
        {
          "name": "stdout",
          "output_type": "stream",
          "text": [
            "Bootstrapped 4 full traces after 18 examples in round 0.\n"
          ]
        }
      ],
      "source": [
        "teleprompter_claude = BootstrapFewShot(metric=validate_context_and_answer)\n",
        "compiled_qna_claude = teleprompter_claude.compile(QnA(), trainset=trainset)"
      ]
    },
    {
      "cell_type": "code",
      "execution_count": 34,
      "metadata": {},
      "outputs": [],
      "source": [
        "tp = BootstrapFinetune(metric=validate_context_and_answer, teacher_settings=dict({'lm': turbo}))"
      ]
    },
    {
      "cell_type": "code",
      "execution_count": 14,
      "metadata": {},
      "outputs": [
        {
          "data": {
            "text/plain": [
              "{'temperature': 0.0,\n",
              " 'max_tokens': 150,\n",
              " 'top_p': 1,\n",
              " 'frequency_penalty': 0,\n",
              " 'presence_penalty': 0,\n",
              " 'endpoint': 'claude-3-haiku@anthropic'}"
            ]
          },
          "execution_count": 14,
          "metadata": {},
          "output_type": "execute_result"
        }
      ],
      "source": [
        "claude.kwargs"
      ]
    },
    {
      "cell_type": "code",
      "execution_count": 15,
      "metadata": {},
      "outputs": [],
      "source": [
        "student_qna = QnA()"
      ]
    },
    {
      "cell_type": "code",
      "execution_count": 16,
      "metadata": {},
      "outputs": [
        {
          "data": {
            "text/plain": [
              "'claude-3-haiku'"
            ]
          },
          "execution_count": 16,
          "metadata": {},
          "output_type": "execute_result"
        }
      ],
      "source": [
        "dsp.settings.lm.model"
      ]
    },
    {
      "cell_type": "code",
      "execution_count": 17,
      "metadata": {},
      "outputs": [
        {
          "data": {
            "text/plain": [
              "{'_compiled': False,\n",
              " 'generate_answer': self = Predict(StringSignature(question -> rationale, answer\n",
              "     instructions='Answer questions with short factoid answers.'\n",
              "     question = Field(annotation=str required=True json_schema_extra={'__dspy_field_type': 'input', 'prefix': 'Question:', 'desc': '${question}'})\n",
              "     rationale = Field(annotation=str required=True json_schema_extra={'prefix': \"Reasoning: Let's think step by step in order to\", 'desc': '${produce the answer}. We ...', '__dspy_field_type': 'output'})\n",
              "     answer = Field(annotation=str required=True json_schema_extra={'desc': 'often between 1 and 5 words', '__dspy_field_type': 'output', 'prefix': 'Answer:'})\n",
              " ))}"
            ]
          },
          "execution_count": 17,
          "metadata": {},
          "output_type": "execute_result"
        }
      ],
      "source": [
        "QnA().__dict__"
      ]
    },
    {
      "cell_type": "code",
      "execution_count": 25,
      "metadata": {},
      "outputs": [
        {
          "data": {
            "text/plain": [
              "['__call__',\n",
              " '__class__',\n",
              " '__delattr__',\n",
              " '__dict__',\n",
              " '__dir__',\n",
              " '__doc__',\n",
              " '__eq__',\n",
              " '__format__',\n",
              " '__ge__',\n",
              " '__getattribute__',\n",
              " '__getstate__',\n",
              " '__gt__',\n",
              " '__hash__',\n",
              " '__init__',\n",
              " '__init_subclass__',\n",
              " '__le__',\n",
              " '__lt__',\n",
              " '__module__',\n",
              " '__ne__',\n",
              " '__new__',\n",
              " '__reduce__',\n",
              " '__reduce_ex__',\n",
              " '__repr__',\n",
              " '__setattr__',\n",
              " '__sizeof__',\n",
              " '__slotnames__',\n",
              " '__str__',\n",
              " '__subclasshook__',\n",
              " '__weakref__',\n",
              " '_assert_failures',\n",
              " '_base_init',\n",
              " '_compiled',\n",
              " '_suggest_failures',\n",
              " 'activate_assertions',\n",
              " 'deepcopy',\n",
              " 'dump_state',\n",
              " 'forward',\n",
              " 'generate_answer',\n",
              " 'load',\n",
              " 'load_state',\n",
              " 'map_named_predictors',\n",
              " 'named_parameters',\n",
              " 'named_predictors',\n",
              " 'named_sub_modules',\n",
              " 'parameters',\n",
              " 'predictors',\n",
              " 'reset_copy',\n",
              " 'save']"
            ]
          },
          "execution_count": 25,
          "metadata": {},
          "output_type": "execute_result"
        }
      ],
      "source": [
        "dir(compiled_qna_turbo)"
      ]
    },
    {
      "cell_type": "code",
      "execution_count": 35,
      "metadata": {},
      "outputs": [
        {
          "name": "stderr",
          "output_type": "stream",
          "text": [
            "100%|\u2588\u2588\u2588\u2588\u2588\u2588\u2588\u2588\u2588\u2588| 20/20 [00:30<00:00,  1.53s/it]\n"
          ]
        },
        {
          "name": "stdout",
          "output_type": "stream",
          "text": [
            "Bootstrapped 12 full traces after 20 examples in round 0.\n",
            "all 12\n",
            "local_cache/compiler\\all.503285c336556a12.jsonl\n"
          ]
        },
        {
          "ename": "ModuleNotFoundError",
          "evalue": "No module named 'evaluate'",
          "output_type": "error",
          "traceback": [
            "\u001b[1;31m---------------------------------------------------------------------------\u001b[0m",
            "\u001b[1;31mModuleNotFoundError\u001b[0m                       Traceback (most recent call last)",
            "Cell \u001b[1;32mIn[35], line 1\u001b[0m\n\u001b[1;32m----> 1\u001b[0m finetuned_qna \u001b[38;5;241m=\u001b[39m \u001b[43mtp\u001b[49m\u001b[38;5;241;43m.\u001b[39;49m\u001b[43mcompile\u001b[49m\u001b[43m(\u001b[49m\u001b[43mstudent\u001b[49m\u001b[38;5;241;43m=\u001b[39;49m\u001b[43mstudent_qna\u001b[49m\u001b[43m,\u001b[49m\u001b[43m \u001b[49m\u001b[43mteacher\u001b[49m\u001b[38;5;241;43m=\u001b[39;49m\u001b[43mcompiled_qna_turbo\u001b[49m\u001b[43m,\u001b[49m\u001b[43m \u001b[49m\u001b[43mtrainset\u001b[49m\u001b[38;5;241;43m=\u001b[39;49m\u001b[43mtrainset\u001b[49m\u001b[43m,\u001b[49m\u001b[43m \u001b[49m\u001b[43mtarget\u001b[49m\u001b[38;5;241;43m=\u001b[39;49m\u001b[38;5;124;43m'\u001b[39;49m\u001b[38;5;124;43mgoogle/flan-t5-base\u001b[39;49m\u001b[38;5;124;43m'\u001b[39;49m\u001b[43m)\u001b[49m\n",
            "File \u001b[1;32md:\\Dokumenty\\Python\\dspy\\dspy\\teleprompt\\finetune.py:157\u001b[0m, in \u001b[0;36mBootstrapFinetune.compile\u001b[1;34m(self, student, teacher, trainset, valset, target, bsize, accumsteps, lr, epochs, bf16, int8, peft, path_prefix)\u001b[0m\n\u001b[0;32m    137\u001b[0m compiler_config \u001b[38;5;241m=\u001b[39m {\n\u001b[0;32m    138\u001b[0m     \u001b[38;5;124m\"\u001b[39m\u001b[38;5;124msave\u001b[39m\u001b[38;5;124m\"\u001b[39m: \u001b[38;5;124m\"\u001b[39m\u001b[38;5;124m\"\u001b[39m\u001b[38;5;241m.\u001b[39mjoin(\n\u001b[0;32m    139\u001b[0m         random\u001b[38;5;241m.\u001b[39mRandom(time\u001b[38;5;241m.\u001b[39mtime())\u001b[38;5;241m.\u001b[39mchoices(string\u001b[38;5;241m.\u001b[39mascii_uppercase \u001b[38;5;241m+\u001b[39m string\u001b[38;5;241m.\u001b[39mdigits, k\u001b[38;5;241m=\u001b[39m\u001b[38;5;241m13\u001b[39m),\n\u001b[1;32m   (...)\u001b[0m\n\u001b[0;32m    150\u001b[0m     \u001b[38;5;124m\"\u001b[39m\u001b[38;5;124mlr\u001b[39m\u001b[38;5;124m\"\u001b[39m: lr,\n\u001b[0;32m    151\u001b[0m }\n\u001b[0;32m    153\u001b[0m compiler_config[\u001b[38;5;124m\"\u001b[39m\u001b[38;5;124msave\u001b[39m\u001b[38;5;124m\"\u001b[39m] \u001b[38;5;241m=\u001b[39m (\n\u001b[0;32m    154\u001b[0m     os\u001b[38;5;241m.\u001b[39mpath\u001b[38;5;241m.\u001b[39mjoin(path_prefix, compiler_config[\u001b[38;5;124m\"\u001b[39m\u001b[38;5;124msave\u001b[39m\u001b[38;5;124m\"\u001b[39m]) \u001b[38;5;28;01mif\u001b[39;00m path_prefix \u001b[38;5;28;01melse\u001b[39;00m compiler_config[\u001b[38;5;124m\"\u001b[39m\u001b[38;5;124msave\u001b[39m\u001b[38;5;124m\"\u001b[39m]\n\u001b[0;32m    155\u001b[0m )\n\u001b[1;32m--> 157\u001b[0m \u001b[38;5;28;01mfrom\u001b[39;00m \u001b[38;5;21;01mdsp\u001b[39;00m\u001b[38;5;21;01m.\u001b[39;00m\u001b[38;5;21;01mmodules\u001b[39;00m\u001b[38;5;21;01m.\u001b[39;00m\u001b[38;5;21;01mfinetuning\u001b[39;00m \u001b[38;5;28;01mimport\u001b[39;00m finetune_hf\n\u001b[0;32m    159\u001b[0m target \u001b[38;5;241m=\u001b[39m target\n\u001b[0;32m    160\u001b[0m finetune_models \u001b[38;5;241m=\u001b[39m {}\n",
            "File \u001b[1;32md:\\Dokumenty\\Python\\dspy\\dsp\\modules\\finetuning\\__init__.py:1\u001b[0m\n\u001b[1;32m----> 1\u001b[0m \u001b[38;5;28;01mfrom\u001b[39;00m \u001b[38;5;21;01m.\u001b[39;00m\u001b[38;5;21;01mfinetune_hf\u001b[39;00m \u001b[38;5;28;01mimport\u001b[39;00m \u001b[38;5;241m*\u001b[39m\n",
            "File \u001b[1;32md:\\Dokumenty\\Python\\dspy\\dsp\\modules\\finetuning\\finetune_hf.py:10\u001b[0m\n\u001b[0;32m      7\u001b[0m \u001b[38;5;28;01mimport\u001b[39;00m \u001b[38;5;21;01mwarnings\u001b[39;00m\n\u001b[0;32m      8\u001b[0m \u001b[38;5;28;01mfrom\u001b[39;00m \u001b[38;5;21;01mdataclasses\u001b[39;00m \u001b[38;5;28;01mimport\u001b[39;00m dataclass\n\u001b[1;32m---> 10\u001b[0m \u001b[38;5;28;01mimport\u001b[39;00m \u001b[38;5;21;01mevaluate\u001b[39;00m\n\u001b[0;32m     11\u001b[0m \u001b[38;5;28;01mimport\u001b[39;00m \u001b[38;5;21;01mnumpy\u001b[39;00m \u001b[38;5;28;01mas\u001b[39;00m \u001b[38;5;21;01mnp\u001b[39;00m\n\u001b[0;32m     12\u001b[0m \u001b[38;5;28;01mimport\u001b[39;00m \u001b[38;5;21;01mtorch\u001b[39;00m\n",
            "\u001b[1;31mModuleNotFoundError\u001b[0m: No module named 'evaluate'"
          ]
        }
      ],
      "source": [
        "finetuned_qna = tp.compile(student=student_qna, teacher=compiled_qna_turbo, trainset=trainset, target='google/flan-t5-base')"
      ]
    },
    {
      "cell_type": "code",
      "execution_count": null,
      "metadata": {},
      "outputs": [],
      "source": [
        "evaluate_hotpot(finetuned_qna, metric=validate_context_and_answer)"
      ]
    }
  ],
  "metadata": {
    "kernelspec": {
      "display_name": "venv",
      "language": "python",
      "name": "python3"
    },
    "language_info": {
      "codemirror_mode": {
        "name": "ipython",
        "version": 3
      },
      "file_extension": ".py",
      "mimetype": "text/x-python",
      "name": "python",
      "nbconvert_exporter": "python",
      "pygments_lexer": "ipython3",
      "version": "3.12.4"
    }
  },
  "nbformat": 4,
  "nbformat_minor": 2
}
