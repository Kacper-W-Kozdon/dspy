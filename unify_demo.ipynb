{
  "cells": [
    {
      "cell_type": "code",
      "execution_count": 17,
      "metadata": {},
      "outputs": [],
      "source": [
        "import os\n",
        "import tqdm as notebook_tqdm\n",
        "from dotenv import load_dotenv\n",
        "\n",
        "import dsp\n",
        "import dspy\n",
        "from dotdict import dotdict\n",
        "from dspy.datasets.gsm8k import GSM8K, gsm8k_metric\n",
        "from dspy.evaluate import Evaluate\n",
        "from dspy.teleprompt import BootstrapFewShot, BootstrapFinetune, BootstrapFewShotWithRandomSearch\n",
        "\n",
        "load_dotenv()\n",
        "unify_api_key = os.getenv(\"UNIFY_KEY\")\n",
        "\n"
      ]
    },
    {
      "cell_type": "code",
      "execution_count": 2,
      "metadata": {},
      "outputs": [
        {
          "data": {
            "text/plain": [
              "(20, 50)"
            ]
          },
          "execution_count": 2,
          "metadata": {},
          "output_type": "execute_result"
        }
      ],
      "source": [
        "from dspy.datasets import HotPotQA\n",
        "\n",
        "# Load the dataset.\n",
        "dataset = HotPotQA(train_seed=1, train_size=20, eval_seed=2023, dev_size=50, test_size=0)\n",
        "\n",
        "# Tell DSPy that the 'question' field is the input. Any other fields are labels and/or metadata.\n",
        "trainset = [x.with_inputs('question') for x in dataset.train]\n",
        "devset = [x.with_inputs('question') for x in dataset.dev]\n",
        "\n",
        "len(trainset), len(devset)"
      ]
    },
    {
      "cell_type": "code",
      "execution_count": 3,
      "metadata": {},
      "outputs": [
        {
          "name": "stdout",
          "output_type": "stream",
          "text": [
            "[Example({'question': 'Are both Cangzhou and Qionghai in the Hebei province of China?', 'answer': 'no', 'gold_titles': {'Qionghai', 'Cangzhou'}}) (input_keys={'question'}), Example({'question': 'Who conducts the draft in which Marc-Andre Fleury was drafted to the Vegas Golden Knights for the 2017-18 season?', 'answer': 'National Hockey League', 'gold_titles': {'2017\u201318 Pittsburgh Penguins season', '2017 NHL Expansion Draft'}}) (input_keys={'question'}), Example({'question': 'The Wings entered a new era, following the retirement of which Canadian retired professional ice hockey player and current general manager of the Tampa Bay Lightning of the National Hockey League (NHL)?', 'answer': 'Steve Yzerman', 'gold_titles': {'Steve Yzerman', '2006\u201307 Detroit Red Wings season'}}) (input_keys={'question'}), Example({'question': 'What river is near the Crichton Collegiate Church?', 'answer': 'the River Tyne', 'gold_titles': {'Crichton Collegiate Church', 'Crichton Castle'}}) (input_keys={'question'}), Example({'question': 'In the 10th Century A.D. Ealhswith had a son called \u00c6thelweard by which English king?', 'answer': 'King Alfred the Great', 'gold_titles': {'Ealhswith', '\u00c6thelweard (son of Alfred)'}}) (input_keys={'question'}), Example({'question': 'The Newark Airport Exchange is at the northern edge of an airport that is operated by whom?', 'answer': 'Port Authority of New York and New Jersey', 'gold_titles': {'Newark Liberty International Airport', 'Newark Airport Interchange'}}) (input_keys={'question'}), Example({'question': 'Where did an event take place resulting in a win during a domestic double due to the action of a Peruvian footballer known for his goal scoring ability?', 'answer': 'Bundesliga', 'gold_titles': {'2005\u201306 FC Bayern Munich season', 'Claudio Pizarro'}}) (input_keys={'question'}), Example({'question': 'Are both Chico Municipal Airport and William R. Fairchild International Airport in California?', 'answer': 'no', 'gold_titles': {'Chico Municipal Airport', 'William R. Fairchild International Airport'}}) (input_keys={'question'}), Example({'question': 'In which Maine county is Fort Pownall located?', 'answer': 'Waldo County, Maine', 'gold_titles': {'Stockton Springs, Maine', 'Fort Pownall'}}) (input_keys={'question'}), Example({'question': 'Which 90s rock band has more recently reformed, Gene or The Afghan Whigs?', 'answer': 'The Afghan Whigs', 'gold_titles': {'Gene (band)', 'The Afghan Whigs'}}) (input_keys={'question'}), Example({'question': 'What year did the mountain known in Italian as \"Monte Vesuvio\", erupt?', 'answer': '79 AD', 'gold_titles': {'Curse of the Faceless Man', 'Mount Vesuvius'}}) (input_keys={'question'}), Example({'question': 'Is the 72nd field brigade part of the oldest or newest established field army?', 'answer': 'the oldest', 'gold_titles': {'72nd Field Artillery Brigade (United States)', 'First United States Army'}}) (input_keys={'question'}), Example({'question': 'Was Stanislaw Kiszka paid for his services by the Royal Treasury?', 'answer': 'not', 'gold_titles': {'Stanis\u0142aw Kiszka', 'Hetmans of the Polish\u2013Lithuanian Commonwealth'}}) (input_keys={'question'}), Example({'question': 'Which film director is younger, Del Lord or Wang Xiaoshuai?', 'answer': 'Del Lord', 'gold_titles': {'Wang Xiaoshuai', 'Del Lord'}}) (input_keys={'question'}), Example({'question': 'Lord North Street has a resident in which former Conservative MP who received an 18-month prison sentence for perjury in 1999?', 'answer': 'Jonathan William Patrick Aitken', 'gold_titles': {'Jonathan Aitken', 'Lord North Street'}}) (input_keys={'question'}), Example({'question': 'What is the name of this region of Italy, referring to the medieval March of Ancona and nearby marches of Camerino and Fermo, where the comune Pollenza is located?', 'answer': 'Marche', 'gold_titles': {'Marche', 'Pollenza'}}) (input_keys={'question'}), Example({'question': 'William Hughes Miller was born in a city with how many inhabitants ?', 'answer': '7,402 at the 2010 census', 'gold_titles': {'William Hughes Miller', 'Kosciusko, Mississippi'}}) (input_keys={'question'}), Example({'question': 'What do students do at the school of New York University where Meleko Mokgosi is an artist and assistant professor?', 'answer': 'design their own interdisciplinary program', 'gold_titles': {'Meleko Mokgosi', 'Gallatin School of Individualized Study'}}) (input_keys={'question'}), Example({'question': 'What is the nationality of the chef and restaurateur featured in Restaurant: Impossible?', 'answer': 'English', 'gold_titles': {'Restaurant: Impossible', 'Robert Irvine'}}) (input_keys={'question'}), Example({'question': 'What American actor plays an East side drug lord who prefers peaceful solutions to business disputes when possible?', 'answer': 'Robert F. Chew', 'gold_titles': {'Robert F. Chew', 'Proposition Joe'}}) (input_keys={'question'}), Example({'question': 'What city is 11 miles north of the birthplace of actor Toby Sawyer?', 'answer': 'Manchester', 'gold_titles': {'Toby Sawyer', 'Wilmslow'}}) (input_keys={'question'}), Example({'question': 'Who was born first, Tony Kaye or Deepa Mehta?', 'answer': 'Deepa Mehta', 'gold_titles': {'Tony Kaye (director)', 'Deepa Mehta'}}) (input_keys={'question'}), Example({'question': \"What is the English translation of the name of the store that Macy's replaced in Boise Town Square?\", 'answer': 'the good market', 'gold_titles': {'Boise Towne Square', 'The Bon March\u00e9'}}) (input_keys={'question'}), Example({'question': 'Who did Lizzette Reynolds fire to make her notable in November 2007?', 'answer': 'Christine Comer', 'gold_titles': {'Christine Comer', 'Lizzette Reynolds'}}) (input_keys={'question'}), Example({'question': 'What was the name of the man, who was billed by the coiner of the phrase \"There\\'s a sucker born every minute\" as \"Boy Lightning Calculator\"?', 'answer': 'William Street Hutchings', 'gold_titles': {'P. T. Barnum', 'William S. Hutchings'}}) (input_keys={'question'}), Example({'question': \"Which battle was fought for a shorter period of time, the Battle of the Ch'ongch'on River, or the Meuse-Argonne Offensive?\", 'answer': \"Battle of the Ch'ongch'on River\", 'gold_titles': {'Meuse-Argonne Offensive', \"Battle of the Ch'ongch'on River\"}}) (input_keys={'question'}), Example({'question': 'What cricketeer active 1974\u20131993 had a strong performance in the tour by the Australian cricket team in England in 1981?', 'answer': 'Ian Botham', 'gold_titles': {'Australian cricket team in England in 1981', 'Ian Botham'}}) (input_keys={'question'}), Example({'question': 'What is the present post of the head coach of the 1982 NC State Wolfpack football team ?', 'answer': 'defensive assistant at Florida Atlantic', 'gold_titles': {'1982 NC State Wolfpack football team', 'Monte Kiffin'}}) (input_keys={'question'}), Example({'question': 'Which Scottish actor sang \"Come What May\"?', 'answer': 'Ewan McGregor', 'gold_titles': {'Ewan McGregor', 'Come What May (2001 song)'}}) (input_keys={'question'}), Example({'question': 'Where have Ivan Bella and Frank De Winne both traveled?', 'answer': 'space', 'gold_titles': {'Frank De Winne', 'Ivan Bella'}}) (input_keys={'question'}), Example({'question': 'The original work by Anton Chekhov involving a disillusioned schoolmaster, which inspired a later play by this British playwright, was written specifically for whom?', 'answer': 'Maria Yermolova', 'gold_titles': {'Wild Honey (play)', 'Platonov (play)'}}) (input_keys={'question'}), Example({'question': 'Are Roswell International Air Center and Pago Pago International Airport both located in the mainland US?', 'answer': 'no', 'gold_titles': {'Pago Pago International Airport', 'Roswell International Air Center'}}) (input_keys={'question'}), Example({'question': 'Untold: The Greatest Sports Stories Never Told was hosted by a sportscaster commonly referred to as what ?', 'answer': 'the voice of basketball', 'gold_titles': {'Marv Albert', 'Untold: The Greatest Sports Stories Never Told'}}) (input_keys={'question'}), Example({'question': 'Are Walt Disney and Sacro GRA both documentry films?', 'answer': 'yes', 'gold_titles': {'Walt Disney (film)', 'Sacro GRA'}}) (input_keys={'question'}), Example({'question': 'What is the Palestinian Islamic organization that governs th small territory on the eastern coast of the Mediterranean Sea that was captured by Israel during the 1967 Six-Day War?', 'answer': 'Hamas', 'gold_titles': {'Status of territories occupied by Israel in 1967', 'Gaza Strip'}}) (input_keys={'question'}), Example({'question': 'What album did the song of which Taylor Swift premiered the music video of during the pre-show of the 2015 MTV Video Music Awards come from?', 'answer': '1989', 'gold_titles': {'Wildest Dreams (Taylor Swift song)', '2015 MTV Video Music Awards'}}) (input_keys={'question'}), Example({'question': 'Which is considered a genus level classification, Apera or Gunnera manicata?', 'answer': 'Apera', 'gold_titles': {'Apera', 'Gunnera manicata'}}) (input_keys={'question'}), Example({'question': 'Do The Drums and Pussy Galore play music of similar genres?', 'answer': 'no', 'gold_titles': {'The Drums', 'Pussy Galore (band)'}}) (input_keys={'question'}), Example({'question': 'What is the post-nominal abbreviation for the university where the Banded Mongoose Research Project is based?', 'answer': 'Exon', 'gold_titles': {'Banded Brothers', 'University of Exeter'}}) (input_keys={'question'}), Example({'question': 'Are both Benjamin Christensen and Len Wiseman directors?', 'answer': 'yes', 'gold_titles': {'Len Wiseman', 'Benjamin Christensen'}}) (input_keys={'question'}), Example({'question': 'Steven Cuitlahuac Melendez and Disney are connected by what American animator?', 'answer': 'Bill Melendez', 'gold_titles': {'Steven C. Melendez', 'Bill Melendez'}}) (input_keys={'question'}), Example({'question': 'Shark Creek is located on this river which is in the northern rivers district?', 'answer': 'Clarence River', 'gold_titles': {'Shark Creek, New South Wales', 'Clarence River (New South Wales)'}}) (input_keys={'question'}), Example({'question': 'Who was the producer of the 2016 animated film about an amnesiac fish?', 'answer': 'Pixar', 'gold_titles': {'Finding Dory', 'Hayden Rolence'}}) (input_keys={'question'}), Example({'question': 'Who purchased the team Michael Schumacher raced for in the 1995 Monaco Grand Prix in 2000?', 'answer': 'Renault', 'gold_titles': {'1995 Monaco Grand Prix', 'Benetton Formula'}}) (input_keys={'question'}), Example({'question': 'Fredrick Law Olmsted was an American landscape architect, journalist, social critic and public administrator that designed what neighborhood in Trenton, New Jersey?', 'answer': 'Cadwalader Heights', 'gold_titles': {'Cadwalader Heights, Trenton, New Jersey', 'Frederick Law Olmsted'}}) (input_keys={'question'}), Example({'question': 'Gordon Warnecke worked alongside the former senator for which political party on Young Toscanini?', 'answer': '\"Forza Italia\" party.', 'gold_titles': {'Franco Zeffirelli', 'Gordon Warnecke'}}) (input_keys={'question'}), Example({'question': 'Andr\u00e9 Zucca was a French photographer who worked with a German propaganda magazine published by what Nazi organization?', 'answer': 'the Wehrmacht', 'gold_titles': {'Signal (magazine)', 'Andr\u00e9 Zucca'}}) (input_keys={'question'}), Example({'question': 'Both Bill Ponsford and Bill Woodfull played what?', 'answer': 'cricketer', 'gold_titles': {'Bill Ponsford', 'Bill Woodfull'}}) (input_keys={'question'}), Example({'question': ' Suzana S. Drobnjakovi\u0107 Ponti acted in a film loosely based on a book by who?', 'answer': 'Danny Wallace', 'gold_titles': {'Yes Man (film)', 'Sasha Alexander'}}) (input_keys={'question'}), Example({'question': 'In what city was the Election Law Journal founded?', 'answer': 'Portland', 'gold_titles': {'Reed College', 'Election Law Journal'}}) (input_keys={'question'})]\n",
            "[Example({'question': 'At My Window was released by which American singer-songwriter?', 'answer': 'John Townes Van Zandt'}) (input_keys={'question'}), Example({'question': 'which  American actor was Candace Kita  guest starred with ', 'answer': 'Bill Murray'}) (input_keys={'question'}), Example({'question': 'Which of these publications was most recently published, Who Put the Bomp or Self?', 'answer': 'Self'}) (input_keys={'question'}), Example({'question': 'The Victorians - Their Story In Pictures is a documentary series written by an author born in what year?', 'answer': '1950'}) (input_keys={'question'}), Example({'question': 'Which magazine has published articles by Scott Shaw, Tae Kwon Do Times or Southwest Art?', 'answer': 'Tae Kwon Do Times'}) (input_keys={'question'}), Example({'question': 'In what year was the club founded that played Manchester City in the 1972 FA Charity Shield', 'answer': '1874'}) (input_keys={'question'}), Example({'question': 'Which is taller, the Empire State Building or the Bank of America Tower?', 'answer': 'The Empire State Building'}) (input_keys={'question'}), Example({'question': 'Which American actress who made their film debut in the 1995 teen drama \"Kids\" was the co-founder of Voto Latino?', 'answer': 'Rosario Dawson'}) (input_keys={'question'}), Example({'question': 'Tombstone stared an actor born May 17, 1955 known as who?', 'answer': 'Bill Paxton'}) (input_keys={'question'}), Example({'question': 'What is the code name for the German offensive that started this Second World War engagement on the Eastern Front (a few hundred kilometers from Moscow) between Soviet and German forces, which included 102nd Infantry Division?', 'answer': 'Operation Citadel'}) (input_keys={'question'}), Example({'question': 'Who acted in the shot film The Shore and is also the youngest actress ever to play Ophelia in a Royal Shakespeare Company production of \"Hamlet.\" ?', 'answer': 'Kerry Condon'}) (input_keys={'question'}), Example({'question': 'Which company distributed this 1977 American animated film produced by Walt Disney Productions for which Sherman Brothers wrote songs?', 'answer': 'Buena Vista Distribution'}) (input_keys={'question'}), Example({'question': 'Samantha Cristoforetti and Mark Shuttleworth are both best known for being first in their field to go where? ', 'answer': 'space'}) (input_keys={'question'}), Example({'question': 'Having the combination of excellent foot speed and bat speed helped Eric Davis, create what kind of outfield for the Los Angeles Dodgers? ', 'answer': '\"Outfield of Dreams\"'}) (input_keys={'question'}), Example({'question': 'Which Pakistani cricket umpire who won 3 consecutive ICC umpire of the year awards in 2009, 2010, and 2011 will be in the ICC World Twenty20?', 'answer': 'Aleem Sarwar Dar'}) (input_keys={'question'}), Example({'question': 'The Organisation that allows a community to influence their operation or use and to enjoy the benefits arisingwas founded in what year?', 'answer': '2010'}) (input_keys={'question'}), Example({'question': '\"Everything Has Changed\" is a song from an album released under which record label ?', 'answer': 'Big Machine Records'}) (input_keys={'question'}), Example({'question': 'Who is older, Aleksandr Danilovich Aleksandrov or Anatoly Fomenko?', 'answer': 'Aleksandr Danilovich Aleksandrov'}) (input_keys={'question'}), Example({'question': 'On the coast of what ocean is the birthplace of Diogal Sakho?', 'answer': 'Atlantic'}) (input_keys={'question'}), Example({'question': 'This American guitarist best known for her work with the Iron Maidens is an ancestor of a composer who was known as what?', 'answer': 'The Waltz King'}) (input_keys={'question'})]\n"
          ]
        }
      ],
      "source": [
        "print(devset)\n",
        "print(trainset)"
      ]
    },
    {
      "cell_type": "code",
      "execution_count": 10,
      "metadata": {},
      "outputs": [],
      "source": [
        "class GenerateAnswer(dspy.Signature):\n",
        "    \"\"\"Answer questions with short factoid answers. If possible, answer with between 1 and 5 words.\"\"\"\n",
        "\n",
        "    question = dspy.InputField()\n",
        "    answer = dspy.OutputField(desc=\"often between 1 and 5 words\")\n",
        "\n",
        "class QnA(dspy.Module):\n",
        "    def __init__(self, num_passages=3):\n",
        "        super().__init__()\n",
        "        self.generate_answer = dspy.ChainOfThought(\"question -> answer\")\n",
        "\n",
        "    def forward(self, question):\n",
        "        prediction = self.generate_answer(question=question)\n",
        "        return dspy.Prediction(answer=prediction.answer)"
      ]
    },
    {
      "cell_type": "code",
      "execution_count": 5,
      "metadata": {},
      "outputs": [],
      "source": [
        "gemma = dsp.Unify(\n",
        "    endpoint=\"gemma-7b-it@anyscale\",\n",
        "    max_tokens=150,\n",
        "    api_key=unify_api_key,\n",
        ")\n",
        "\n",
        "claude = dsp.Unify(\n",
        "    endpoint=\"claude-3-haiku@anthropic\",\n",
        "    max_tokens=150,\n",
        "    api_key=unify_api_key,\n",
        ")\n",
        "\n",
        "unify_router = dsp.Unify(\n",
        "    max_tokens=150,\n",
        "    api_key=unify_api_key,\n",
        ")\n",
        "\n",
        "\n",
        "dspy.settings.configure(lm=claude)"
      ]
    },
    {
      "cell_type": "code",
      "execution_count": 18,
      "metadata": {},
      "outputs": [
        {
          "name": "stdout",
          "output_type": "stream",
          "text": [
            "Going to sample between 1 and 4 traces per predictor.\n",
            "Will attempt to bootstrap 16 candidate sets.\n"
          ]
        }
      ],
      "source": [
        "def validate_context_and_answer(example, pred, trace=None):\n",
        "    answer_EM = dspy.evaluate.answer_exact_match(example, pred)\n",
        "    return answer_EM\n",
        "\n",
        "num_threads = 24\n",
        "\n",
        "teleprompter = BootstrapFewShotWithRandomSearch(metric=validate_context_and_answer)\n",
        "\n"
      ]
    },
    {
      "cell_type": "code",
      "execution_count": 19,
      "metadata": {},
      "outputs": [
        {
          "name": "stderr",
          "output_type": "stream",
          "text": [
            "Average Metric: 0 / 20  (0.0): 100%|\u2588\u2588\u2588\u2588\u2588\u2588\u2588\u2588\u2588\u2588| 20/20 [00:09<00:00,  2.09it/s]\n"
          ]
        },
        {
          "name": "stdout",
          "output_type": "stream",
          "text": [
            "Score: 0.0 for set: [0]\n",
            "New best sscore: 0.0 for seed -3\n",
            "Scores so far: [0.0]\n",
            "Best score: 0.0\n"
          ]
        },
        {
          "name": "stderr",
          "output_type": "stream",
          "text": [
            "Average Metric: 10 / 20  (50.0): 100%|\u2588\u2588\u2588\u2588\u2588\u2588\u2588\u2588\u2588\u2588| 20/20 [00:10<00:00,  1.82it/s]\n"
          ]
        },
        {
          "name": "stdout",
          "output_type": "stream",
          "text": [
            "Score: 50.0 for set: [16]\n",
            "New best sscore: 50.0 for seed -2\n",
            "Scores so far: [0.0, 50.0]\n",
            "Best score: 50.0\n"
          ]
        },
        {
          "name": "stderr",
          "output_type": "stream",
          "text": [
            "100%|\u2588\u2588\u2588\u2588\u2588\u2588\u2588\u2588\u2588\u2588| 20/20 [00:50<00:00,  2.54s/it]\n"
          ]
        },
        {
          "name": "stdout",
          "output_type": "stream",
          "text": [
            "Bootstrapped 3 full traces after 20 examples in round 0.\n"
          ]
        },
        {
          "name": "stderr",
          "output_type": "stream",
          "text": [
            "Average Metric: 4 / 20  (20.0): 100%|\u2588\u2588\u2588\u2588\u2588\u2588\u2588\u2588\u2588\u2588| 20/20 [00:12<00:00,  1.55it/s]\n"
          ]
        },
        {
          "name": "stdout",
          "output_type": "stream",
          "text": [
            "Score: 20.0 for set: [16]\n",
            "Scores so far: [0.0, 50.0, 20.0]\n",
            "Best score: 50.0\n",
            "Average of max per entry across top 1 scores: 0.5\n",
            "Average of max per entry across top 2 scores: 0.6\n",
            "Average of max per entry across top 3 scores: 0.6\n",
            "Average of max per entry across top 5 scores: 0.6\n",
            "Average of max per entry across top 8 scores: 0.6\n",
            "Average of max per entry across top 9999 scores: 0.6\n"
          ]
        },
        {
          "name": "stderr",
          "output_type": "stream",
          "text": [
            "100%|\u2588\u2588\u2588\u2588\u2588\u2588\u2588\u2588\u2588\u2588| 20/20 [00:48<00:00,  2.41s/it]\n"
          ]
        },
        {
          "name": "stdout",
          "output_type": "stream",
          "text": [
            "Bootstrapped 3 full traces after 20 examples in round 0.\n"
          ]
        },
        {
          "name": "stderr",
          "output_type": "stream",
          "text": [
            "Average Metric: 6 / 20  (30.0): 100%|\u2588\u2588\u2588\u2588\u2588\u2588\u2588\u2588\u2588\u2588| 20/20 [00:12<00:00,  1.60it/s]\n"
          ]
        },
        {
          "name": "stdout",
          "output_type": "stream",
          "text": [
            "Score: 30.0 for set: [16]\n",
            "Scores so far: [0.0, 50.0, 20.0, 30.0]\n",
            "Best score: 50.0\n",
            "Average of max per entry across top 1 scores: 0.5\n",
            "Average of max per entry across top 2 scores: 0.7\n",
            "Average of max per entry across top 3 scores: 0.75\n",
            "Average of max per entry across top 5 scores: 0.75\n",
            "Average of max per entry across top 8 scores: 0.75\n",
            "Average of max per entry across top 9999 scores: 0.75\n"
          ]
        },
        {
          "name": "stderr",
          "output_type": "stream",
          "text": [
            " 75%|\u2588\u2588\u2588\u2588\u2588\u2588\u2588\u258c  | 15/20 [00:39<00:13,  2.60s/it]\n"
          ]
        },
        {
          "name": "stdout",
          "output_type": "stream",
          "text": [
            "Bootstrapped 2 full traces after 16 examples in round 0.\n"
          ]
        },
        {
          "name": "stderr",
          "output_type": "stream",
          "text": [
            "Average Metric: 8 / 20  (40.0): 100%|\u2588\u2588\u2588\u2588\u2588\u2588\u2588\u2588\u2588\u2588| 20/20 [00:12<00:00,  1.58it/s]\n"
          ]
        },
        {
          "name": "stdout",
          "output_type": "stream",
          "text": [
            "Score: 40.0 for set: [16]\n",
            "Scores so far: [0.0, 50.0, 20.0, 30.0, 40.0]\n",
            "Best score: 50.0\n",
            "Average of max per entry across top 1 scores: 0.5\n",
            "Average of max per entry across top 2 scores: 0.65\n",
            "Average of max per entry across top 3 scores: 0.75\n",
            "Average of max per entry across top 5 scores: 0.8\n",
            "Average of max per entry across top 8 scores: 0.8\n",
            "Average of max per entry across top 9999 scores: 0.8\n"
          ]
        },
        {
          "name": "stderr",
          "output_type": "stream",
          "text": [
            " 60%|\u2588\u2588\u2588\u2588\u2588\u2588    | 12/20 [00:31<00:20,  2.62s/it]\n"
          ]
        },
        {
          "name": "stdout",
          "output_type": "stream",
          "text": [
            "Bootstrapped 1 full traces after 13 examples in round 0.\n"
          ]
        },
        {
          "name": "stderr",
          "output_type": "stream",
          "text": [
            "Average Metric: 5 / 20  (25.0): 100%|\u2588\u2588\u2588\u2588\u2588\u2588\u2588\u2588\u2588\u2588| 20/20 [00:14<00:00,  1.39it/s]\n"
          ]
        },
        {
          "name": "stdout",
          "output_type": "stream",
          "text": [
            "Score: 25.0 for set: [16]\n",
            "Scores so far: [0.0, 50.0, 20.0, 30.0, 40.0, 25.0]\n",
            "Best score: 50.0\n",
            "Average of max per entry across top 1 scores: 0.5\n",
            "Average of max per entry across top 2 scores: 0.65\n",
            "Average of max per entry across top 3 scores: 0.75\n",
            "Average of max per entry across top 5 scores: 0.8\n",
            "Average of max per entry across top 8 scores: 0.8\n",
            "Average of max per entry across top 9999 scores: 0.8\n"
          ]
        },
        {
          "name": "stderr",
          "output_type": "stream",
          "text": [
            "100%|\u2588\u2588\u2588\u2588\u2588\u2588\u2588\u2588\u2588\u2588| 20/20 [00:50<00:00,  2.52s/it]\n"
          ]
        },
        {
          "name": "stdout",
          "output_type": "stream",
          "text": [
            "Bootstrapped 1 full traces after 20 examples in round 0.\n"
          ]
        },
        {
          "name": "stderr",
          "output_type": "stream",
          "text": [
            "Average Metric: 6 / 20  (30.0): 100%|\u2588\u2588\u2588\u2588\u2588\u2588\u2588\u2588\u2588\u2588| 20/20 [00:12<00:00,  1.64it/s]\n"
          ]
        },
        {
          "name": "stdout",
          "output_type": "stream",
          "text": [
            "Score: 30.0 for set: [16]\n",
            "Scores so far: [0.0, 50.0, 20.0, 30.0, 40.0, 25.0, 30.0]\n",
            "Best score: 50.0\n",
            "Average of max per entry across top 1 scores: 0.5\n",
            "Average of max per entry across top 2 scores: 0.65\n",
            "Average of max per entry across top 3 scores: 0.75\n",
            "Average of max per entry across top 5 scores: 0.75\n",
            "Average of max per entry across top 8 scores: 0.8\n",
            "Average of max per entry across top 9999 scores: 0.8\n"
          ]
        },
        {
          "name": "stderr",
          "output_type": "stream",
          "text": [
            " 85%|\u2588\u2588\u2588\u2588\u2588\u2588\u2588\u2588\u258c | 17/20 [00:42<00:07,  2.48s/it]\n"
          ]
        },
        {
          "name": "stdout",
          "output_type": "stream",
          "text": [
            "Bootstrapped 2 full traces after 18 examples in round 0.\n"
          ]
        },
        {
          "name": "stderr",
          "output_type": "stream",
          "text": [
            "Average Metric: 8 / 20  (40.0): 100%|\u2588\u2588\u2588\u2588\u2588\u2588\u2588\u2588\u2588\u2588| 20/20 [00:13<00:00,  1.50it/s]\n"
          ]
        },
        {
          "name": "stdout",
          "output_type": "stream",
          "text": [
            "Score: 40.0 for set: [16]\n",
            "Scores so far: [0.0, 50.0, 20.0, 30.0, 40.0, 25.0, 30.0, 40.0]\n",
            "Best score: 50.0\n",
            "Average of max per entry across top 1 scores: 0.5\n",
            "Average of max per entry across top 2 scores: 0.65\n",
            "Average of max per entry across top 3 scores: 0.8\n",
            "Average of max per entry across top 5 scores: 0.8\n",
            "Average of max per entry across top 8 scores: 0.85\n",
            "Average of max per entry across top 9999 scores: 0.85\n"
          ]
        },
        {
          "name": "stderr",
          "output_type": "stream",
          "text": [
            "100%|\u2588\u2588\u2588\u2588\u2588\u2588\u2588\u2588\u2588\u2588| 20/20 [00:48<00:00,  2.44s/it]\n"
          ]
        },
        {
          "name": "stdout",
          "output_type": "stream",
          "text": [
            "Bootstrapped 1 full traces after 20 examples in round 0.\n"
          ]
        },
        {
          "name": "stderr",
          "output_type": "stream",
          "text": [
            "Average Metric: 6 / 20  (30.0): 100%|\u2588\u2588\u2588\u2588\u2588\u2588\u2588\u2588\u2588\u2588| 20/20 [00:13<00:00,  1.50it/s]\n"
          ]
        },
        {
          "name": "stdout",
          "output_type": "stream",
          "text": [
            "Score: 30.0 for set: [16]\n",
            "Scores so far: [0.0, 50.0, 20.0, 30.0, 40.0, 25.0, 30.0, 40.0, 30.0]\n",
            "Best score: 50.0\n",
            "Average of max per entry across top 1 scores: 0.5\n",
            "Average of max per entry across top 2 scores: 0.65\n",
            "Average of max per entry across top 3 scores: 0.8\n",
            "Average of max per entry across top 5 scores: 0.8\n",
            "Average of max per entry across top 8 scores: 0.85\n",
            "Average of max per entry across top 9999 scores: 0.85\n"
          ]
        },
        {
          "name": "stderr",
          "output_type": "stream",
          "text": [
            "  5%|\u258c         | 1/20 [00:02<00:38,  2.01s/it]\n"
          ]
        },
        {
          "name": "stdout",
          "output_type": "stream",
          "text": [
            "Bootstrapped 1 full traces after 2 examples in round 0.\n"
          ]
        },
        {
          "name": "stderr",
          "output_type": "stream",
          "text": [
            "Average Metric: 5 / 20  (25.0): 100%|\u2588\u2588\u2588\u2588\u2588\u2588\u2588\u2588\u2588\u2588| 20/20 [00:13<00:00,  1.49it/s]\n"
          ]
        },
        {
          "name": "stdout",
          "output_type": "stream",
          "text": [
            "Score: 25.0 for set: [16]\n",
            "Scores so far: [0.0, 50.0, 20.0, 30.0, 40.0, 25.0, 30.0, 40.0, 30.0, 25.0]\n",
            "Best score: 50.0\n",
            "Average of max per entry across top 1 scores: 0.5\n",
            "Average of max per entry across top 2 scores: 0.65\n",
            "Average of max per entry across top 3 scores: 0.8\n",
            "Average of max per entry across top 5 scores: 0.8\n",
            "Average of max per entry across top 8 scores: 0.8\n",
            "Average of max per entry across top 9999 scores: 0.85\n"
          ]
        },
        {
          "name": "stderr",
          "output_type": "stream",
          "text": [
            " 80%|\u2588\u2588\u2588\u2588\u2588\u2588\u2588\u2588  | 16/20 [00:36<00:09,  2.27s/it]\n"
          ]
        },
        {
          "name": "stdout",
          "output_type": "stream",
          "text": [
            "Bootstrapped 3 full traces after 17 examples in round 0.\n"
          ]
        },
        {
          "name": "stderr",
          "output_type": "stream",
          "text": [
            "Average Metric: 4 / 20  (20.0): 100%|\u2588\u2588\u2588\u2588\u2588\u2588\u2588\u2588\u2588\u2588| 20/20 [00:12<00:00,  1.58it/s]\n"
          ]
        },
        {
          "name": "stdout",
          "output_type": "stream",
          "text": [
            "Score: 20.0 for set: [16]\n",
            "Scores so far: [0.0, 50.0, 20.0, 30.0, 40.0, 25.0, 30.0, 40.0, 30.0, 25.0, 20.0]\n",
            "Best score: 50.0\n",
            "Average of max per entry across top 1 scores: 0.5\n",
            "Average of max per entry across top 2 scores: 0.65\n",
            "Average of max per entry across top 3 scores: 0.8\n",
            "Average of max per entry across top 5 scores: 0.8\n",
            "Average of max per entry across top 8 scores: 0.8\n",
            "Average of max per entry across top 9999 scores: 0.85\n"
          ]
        },
        {
          "name": "stderr",
          "output_type": "stream",
          "text": [
            "100%|\u2588\u2588\u2588\u2588\u2588\u2588\u2588\u2588\u2588\u2588| 20/20 [00:48<00:00,  2.45s/it]\n"
          ]
        },
        {
          "name": "stdout",
          "output_type": "stream",
          "text": [
            "Bootstrapped 2 full traces after 20 examples in round 0.\n"
          ]
        },
        {
          "name": "stderr",
          "output_type": "stream",
          "text": [
            "Average Metric: 5 / 20  (25.0): 100%|\u2588\u2588\u2588\u2588\u2588\u2588\u2588\u2588\u2588\u2588| 20/20 [00:12<00:00,  1.58it/s]\n"
          ]
        },
        {
          "name": "stdout",
          "output_type": "stream",
          "text": [
            "Score: 25.0 for set: [16]\n",
            "Scores so far: [0.0, 50.0, 20.0, 30.0, 40.0, 25.0, 30.0, 40.0, 30.0, 25.0, 20.0, 25.0]\n",
            "Best score: 50.0\n",
            "Average of max per entry across top 1 scores: 0.5\n",
            "Average of max per entry across top 2 scores: 0.65\n",
            "Average of max per entry across top 3 scores: 0.8\n",
            "Average of max per entry across top 5 scores: 0.8\n",
            "Average of max per entry across top 8 scores: 0.8\n",
            "Average of max per entry across top 9999 scores: 0.85\n"
          ]
        },
        {
          "name": "stderr",
          "output_type": "stream",
          "text": [
            "100%|\u2588\u2588\u2588\u2588\u2588\u2588\u2588\u2588\u2588\u2588| 20/20 [00:42<00:00,  2.11s/it]\n"
          ]
        },
        {
          "name": "stdout",
          "output_type": "stream",
          "text": [
            "Bootstrapped 1 full traces after 20 examples in round 0.\n"
          ]
        },
        {
          "name": "stderr",
          "output_type": "stream",
          "text": [
            "Average Metric: 6 / 20  (30.0): 100%|\u2588\u2588\u2588\u2588\u2588\u2588\u2588\u2588\u2588\u2588| 20/20 [00:12<00:00,  1.56it/s]\n"
          ]
        },
        {
          "name": "stdout",
          "output_type": "stream",
          "text": [
            "Score: 30.0 for set: [16]\n",
            "Scores so far: [0.0, 50.0, 20.0, 30.0, 40.0, 25.0, 30.0, 40.0, 30.0, 25.0, 20.0, 25.0, 30.0]\n",
            "Best score: 50.0\n",
            "Average of max per entry across top 1 scores: 0.5\n",
            "Average of max per entry across top 2 scores: 0.65\n",
            "Average of max per entry across top 3 scores: 0.8\n",
            "Average of max per entry across top 5 scores: 0.8\n",
            "Average of max per entry across top 8 scores: 0.9\n",
            "Average of max per entry across top 9999 scores: 0.9\n"
          ]
        },
        {
          "name": "stderr",
          "output_type": "stream",
          "text": [
            " 40%|\u2588\u2588\u2588\u2588      | 8/20 [00:18<00:27,  2.31s/it]\n"
          ]
        },
        {
          "name": "stdout",
          "output_type": "stream",
          "text": [
            "Bootstrapped 1 full traces after 9 examples in round 0.\n"
          ]
        },
        {
          "name": "stderr",
          "output_type": "stream",
          "text": [
            "Average Metric: 6 / 20  (30.0): 100%|\u2588\u2588\u2588\u2588\u2588\u2588\u2588\u2588\u2588\u2588| 20/20 [00:13<00:00,  1.43it/s]\n"
          ]
        },
        {
          "name": "stdout",
          "output_type": "stream",
          "text": [
            "Score: 30.0 for set: [16]\n",
            "Scores so far: [0.0, 50.0, 20.0, 30.0, 40.0, 25.0, 30.0, 40.0, 30.0, 25.0, 20.0, 25.0, 30.0, 30.0]\n",
            "Best score: 50.0\n",
            "Average of max per entry across top 1 scores: 0.5\n",
            "Average of max per entry across top 2 scores: 0.65\n",
            "Average of max per entry across top 3 scores: 0.8\n",
            "Average of max per entry across top 5 scores: 0.8\n",
            "Average of max per entry across top 8 scores: 0.9\n",
            "Average of max per entry across top 9999 scores: 0.9\n"
          ]
        },
        {
          "name": "stderr",
          "output_type": "stream",
          "text": [
            "100%|\u2588\u2588\u2588\u2588\u2588\u2588\u2588\u2588\u2588\u2588| 20/20 [00:49<00:00,  2.50s/it]\n"
          ]
        },
        {
          "name": "stdout",
          "output_type": "stream",
          "text": [
            "Bootstrapped 1 full traces after 20 examples in round 0.\n"
          ]
        },
        {
          "name": "stderr",
          "output_type": "stream",
          "text": [
            "Average Metric: 6 / 20  (30.0): 100%|\u2588\u2588\u2588\u2588\u2588\u2588\u2588\u2588\u2588\u2588| 20/20 [00:12<00:00,  1.66it/s]\n"
          ]
        },
        {
          "name": "stdout",
          "output_type": "stream",
          "text": [
            "Score: 30.0 for set: [16]\n",
            "Scores so far: [0.0, 50.0, 20.0, 30.0, 40.0, 25.0, 30.0, 40.0, 30.0, 25.0, 20.0, 25.0, 30.0, 30.0, 30.0]\n",
            "Best score: 50.0\n",
            "Average of max per entry across top 1 scores: 0.5\n",
            "Average of max per entry across top 2 scores: 0.65\n",
            "Average of max per entry across top 3 scores: 0.8\n",
            "Average of max per entry across top 5 scores: 0.8\n",
            "Average of max per entry across top 8 scores: 0.9\n",
            "Average of max per entry across top 9999 scores: 0.95\n"
          ]
        },
        {
          "name": "stderr",
          "output_type": "stream",
          "text": [
            "100%|\u2588\u2588\u2588\u2588\u2588\u2588\u2588\u2588\u2588\u2588| 20/20 [00:42<00:00,  2.13s/it]\n"
          ]
        },
        {
          "name": "stdout",
          "output_type": "stream",
          "text": [
            "Bootstrapped 2 full traces after 20 examples in round 0.\n"
          ]
        },
        {
          "name": "stderr",
          "output_type": "stream",
          "text": [
            "Average Metric: 5 / 20  (25.0): 100%|\u2588\u2588\u2588\u2588\u2588\u2588\u2588\u2588\u2588\u2588| 20/20 [00:13<00:00,  1.52it/s]\n"
          ]
        },
        {
          "name": "stdout",
          "output_type": "stream",
          "text": [
            "Score: 25.0 for set: [16]\n",
            "Scores so far: [0.0, 50.0, 20.0, 30.0, 40.0, 25.0, 30.0, 40.0, 30.0, 25.0, 20.0, 25.0, 30.0, 30.0, 30.0, 25.0]\n",
            "Best score: 50.0\n",
            "Average of max per entry across top 1 scores: 0.5\n",
            "Average of max per entry across top 2 scores: 0.65\n",
            "Average of max per entry across top 3 scores: 0.8\n",
            "Average of max per entry across top 5 scores: 0.8\n",
            "Average of max per entry across top 8 scores: 0.9\n",
            "Average of max per entry across top 9999 scores: 0.95\n"
          ]
        },
        {
          "name": "stderr",
          "output_type": "stream",
          "text": [
            "100%|\u2588\u2588\u2588\u2588\u2588\u2588\u2588\u2588\u2588\u2588| 20/20 [00:49<00:00,  2.48s/it]\n"
          ]
        },
        {
          "name": "stdout",
          "output_type": "stream",
          "text": [
            "Bootstrapped 2 full traces after 20 examples in round 0.\n"
          ]
        },
        {
          "name": "stderr",
          "output_type": "stream",
          "text": [
            "Average Metric: 2 / 20  (10.0): 100%|\u2588\u2588\u2588\u2588\u2588\u2588\u2588\u2588\u2588\u2588| 20/20 [00:13<00:00,  1.52it/s]\n"
          ]
        },
        {
          "name": "stdout",
          "output_type": "stream",
          "text": [
            "Score: 10.0 for set: [16]\n",
            "Scores so far: [0.0, 50.0, 20.0, 30.0, 40.0, 25.0, 30.0, 40.0, 30.0, 25.0, 20.0, 25.0, 30.0, 30.0, 30.0, 25.0, 10.0]\n",
            "Best score: 50.0\n",
            "Average of max per entry across top 1 scores: 0.5\n",
            "Average of max per entry across top 2 scores: 0.65\n",
            "Average of max per entry across top 3 scores: 0.8\n",
            "Average of max per entry across top 5 scores: 0.8\n",
            "Average of max per entry across top 8 scores: 0.9\n",
            "Average of max per entry across top 9999 scores: 0.95\n"
          ]
        },
        {
          "name": "stderr",
          "output_type": "stream",
          "text": [
            " 20%|\u2588\u2588        | 4/20 [00:08<00:34,  2.14s/it]\n"
          ]
        },
        {
          "name": "stdout",
          "output_type": "stream",
          "text": [
            "Bootstrapped 1 full traces after 5 examples in round 0.\n"
          ]
        },
        {
          "name": "stderr",
          "output_type": "stream",
          "text": [
            "Average Metric: 6 / 20  (30.0): 100%|\u2588\u2588\u2588\u2588\u2588\u2588\u2588\u2588\u2588\u2588| 20/20 [00:10<00:00,  1.92it/s]\n"
          ]
        },
        {
          "name": "stdout",
          "output_type": "stream",
          "text": [
            "Score: 30.0 for set: [16]\n",
            "Scores so far: [0.0, 50.0, 20.0, 30.0, 40.0, 25.0, 30.0, 40.0, 30.0, 25.0, 20.0, 25.0, 30.0, 30.0, 30.0, 25.0, 10.0, 30.0]\n",
            "Best score: 50.0\n",
            "Average of max per entry across top 1 scores: 0.5\n",
            "Average of max per entry across top 2 scores: 0.65\n",
            "Average of max per entry across top 3 scores: 0.8\n",
            "Average of max per entry across top 5 scores: 0.8\n",
            "Average of max per entry across top 8 scores: 0.9\n",
            "Average of max per entry across top 9999 scores: 0.95\n"
          ]
        },
        {
          "name": "stderr",
          "output_type": "stream",
          "text": [
            " 15%|\u2588\u258c        | 3/20 [00:07<00:40,  2.35s/it]\n"
          ]
        },
        {
          "name": "stdout",
          "output_type": "stream",
          "text": [
            "Bootstrapped 2 full traces after 4 examples in round 0.\n"
          ]
        },
        {
          "name": "stderr",
          "output_type": "stream",
          "text": [
            "Average Metric: 5 / 20  (25.0): 100%|\u2588\u2588\u2588\u2588\u2588\u2588\u2588\u2588\u2588\u2588| 20/20 [00:12<00:00,  1.63it/s]\n"
          ]
        },
        {
          "name": "stdout",
          "output_type": "stream",
          "text": [
            "Score: 25.0 for set: [16]\n",
            "Scores so far: [0.0, 50.0, 20.0, 30.0, 40.0, 25.0, 30.0, 40.0, 30.0, 25.0, 20.0, 25.0, 30.0, 30.0, 30.0, 25.0, 10.0, 30.0, 25.0]\n",
            "Best score: 50.0\n",
            "Average of max per entry across top 1 scores: 0.5\n",
            "Average of max per entry across top 2 scores: 0.65\n",
            "Average of max per entry across top 3 scores: 0.8\n",
            "Average of max per entry across top 5 scores: 0.8\n",
            "Average of max per entry across top 8 scores: 0.9\n",
            "Average of max per entry across top 9999 scores: 0.95\n",
            "19 candidate programs found.\n"
          ]
        }
      ],
      "source": [
        "compiled_qna = teleprompter.compile(QnA(), trainset=trainset[:50], valset=trainset[50:200])"
      ]
    },
    {
      "cell_type": "code",
      "execution_count": 22,
      "metadata": {},
      "outputs": [
        {
          "name": "stderr",
          "output_type": "stream",
          "text": [
            "Average Metric: 8 / 50  (16.0): 100%|\u2588\u2588\u2588\u2588\u2588\u2588\u2588\u2588\u2588\u2588| 50/50 [00:08<00:00,  5.77it/s]\n"
          ]
        },
        {
          "data": {
            "text/html": [
              "<style type=\"text/css\">\n",
              "#T_f8319 th {\n",
              "  text-align: left;\n",
              "}\n",
              "#T_f8319 td {\n",
              "  text-align: left;\n",
              "}\n",
              "#T_f8319_row0_col0, #T_f8319_row0_col1, #T_f8319_row0_col2, #T_f8319_row0_col3, #T_f8319_row0_col4, #T_f8319_row1_col0, #T_f8319_row1_col1, #T_f8319_row1_col2, #T_f8319_row1_col3, #T_f8319_row1_col4, #T_f8319_row2_col0, #T_f8319_row2_col1, #T_f8319_row2_col2, #T_f8319_row2_col3, #T_f8319_row2_col4, #T_f8319_row3_col0, #T_f8319_row3_col1, #T_f8319_row3_col2, #T_f8319_row3_col3, #T_f8319_row3_col4, #T_f8319_row4_col0, #T_f8319_row4_col1, #T_f8319_row4_col2, #T_f8319_row4_col3, #T_f8319_row4_col4 {\n",
              "  text-align: left;\n",
              "  white-space: pre-wrap;\n",
              "  word-wrap: break-word;\n",
              "  max-width: 400px;\n",
              "}\n",
              "</style>\n",
              "<table id=\"T_f8319\">\n",
              "  <thead>\n",
              "    <tr>\n",
              "      <th class=\"blank level0\" >&nbsp;</th>\n",
              "      <th id=\"T_f8319_level0_col0\" class=\"col_heading level0 col0\" >question</th>\n",
              "      <th id=\"T_f8319_level0_col1\" class=\"col_heading level0 col1\" >example_answer</th>\n",
              "      <th id=\"T_f8319_level0_col2\" class=\"col_heading level0 col2\" >gold_titles</th>\n",
              "      <th id=\"T_f8319_level0_col3\" class=\"col_heading level0 col3\" >pred_answer</th>\n",
              "      <th id=\"T_f8319_level0_col4\" class=\"col_heading level0 col4\" >validate_context_and_answer</th>\n",
              "    </tr>\n",
              "  </thead>\n",
              "  <tbody>\n",
              "    <tr>\n",
              "      <th id=\"T_f8319_level0_row0\" class=\"row_heading level0 row0\" >0</th>\n",
              "      <td id=\"T_f8319_row0_col0\" class=\"data row0 col0\" >Are both Cangzhou and Qionghai in the Hebei province of China?</td>\n",
              "      <td id=\"T_f8319_row0_col1\" class=\"data row0 col1\" >no</td>\n",
              "      <td id=\"T_f8319_row0_col2\" class=\"data row0 col2\" >{'Qionghai', 'Cangzhou'}</td>\n",
              "      <td id=\"T_f8319_row0_col3\" class=\"data row0 col3\" >Question: Samantha Cristoforetti and Mark Shuttleworth are both best known for being first in their field to go where? Reasoning: Let's think step by step...</td>\n",
              "      <td id=\"T_f8319_row0_col4\" class=\"data row0 col4\" >False</td>\n",
              "    </tr>\n",
              "    <tr>\n",
              "      <th id=\"T_f8319_level0_row1\" class=\"row_heading level0 row1\" >1</th>\n",
              "      <td id=\"T_f8319_row1_col0\" class=\"data row1 col0\" >Who conducts the draft in which Marc-Andre Fleury was drafted to the Vegas Golden Knights for the 2017-18 season?</td>\n",
              "      <td id=\"T_f8319_row1_col1\" class=\"data row1 col1\" >National Hockey League</td>\n",
              "      <td id=\"T_f8319_row1_col2\" class=\"data row1 col2\" >{'2017\u201318 Pittsburgh Penguins season', '2017 NHL Expansion Draft'}</td>\n",
              "      <td id=\"T_f8319_row1_col3\" class=\"data row1 col3\" >space Question: Having the combination of excellent foot speed and bat speed helped Eric Davis, create what kind of outfield for the Los Angeles Dodgers?...</td>\n",
              "      <td id=\"T_f8319_row1_col4\" class=\"data row1 col4\" >False</td>\n",
              "    </tr>\n",
              "    <tr>\n",
              "      <th id=\"T_f8319_level0_row2\" class=\"row_heading level0 row2\" >2</th>\n",
              "      <td id=\"T_f8319_row2_col0\" class=\"data row2 col0\" >The Wings entered a new era, following the retirement of which Canadian retired professional ice hockey player and current general manager of the Tampa Bay...</td>\n",
              "      <td id=\"T_f8319_row2_col1\" class=\"data row2 col1\" >Steve Yzerman</td>\n",
              "      <td id=\"T_f8319_row2_col2\" class=\"data row2 col2\" >{'Steve Yzerman', '2006\u201307 Detroit Red Wings season'}</td>\n",
              "      <td id=\"T_f8319_row2_col3\" class=\"data row2 col3\" >Question: The Wings entered a new era, following the retirement of which Canadian retired professional ice hockey player and current general manager of the Tampa...</td>\n",
              "      <td id=\"T_f8319_row2_col4\" class=\"data row2 col4\" >False</td>\n",
              "    </tr>\n",
              "    <tr>\n",
              "      <th id=\"T_f8319_level0_row3\" class=\"row_heading level0 row3\" >3</th>\n",
              "      <td id=\"T_f8319_row3_col0\" class=\"data row3 col0\" >What river is near the Crichton Collegiate Church?</td>\n",
              "      <td id=\"T_f8319_row3_col1\" class=\"data row3 col1\" >the River Tyne</td>\n",
              "      <td id=\"T_f8319_row3_col2\" class=\"data row3 col2\" >{'Crichton Collegiate Church', 'Crichton Castle'}</td>\n",
              "      <td id=\"T_f8319_row3_col3\" class=\"data row3 col3\" >The River Esk is near the Crichton Collegiate Church, which is located in Midlothian, Scotland.</td>\n",
              "      <td id=\"T_f8319_row3_col4\" class=\"data row3 col4\" >False</td>\n",
              "    </tr>\n",
              "    <tr>\n",
              "      <th id=\"T_f8319_level0_row4\" class=\"row_heading level0 row4\" >4</th>\n",
              "      <td id=\"T_f8319_row4_col0\" class=\"data row4 col0\" >In the 10th Century A.D. Ealhswith had a son called \u00c6thelweard by which English king?</td>\n",
              "      <td id=\"T_f8319_row4_col1\" class=\"data row4 col1\" >King Alfred the Great</td>\n",
              "      <td id=\"T_f8319_row4_col2\" class=\"data row4 col2\" >{'Ealhswith', '\u00c6thelweard (son of Alfred)'}</td>\n",
              "      <td id=\"T_f8319_row4_col3\" class=\"data row4 col3\" >Question: In the 10th Century A.D. Ealhswith had a son called \u00c6thelweard by which English king? Reasoning: Let's think step by step in order to...</td>\n",
              "      <td id=\"T_f8319_row4_col4\" class=\"data row4 col4\" >False</td>\n",
              "    </tr>\n",
              "  </tbody>\n",
              "</table>\n"
            ],
            "text/plain": [
              "<pandas.io.formats.style.Styler at 0x22bc59bb2c0>"
            ]
          },
          "metadata": {},
          "output_type": "display_data"
        },
        {
          "data": {
            "text/html": [
              "\n",
              "                <div style='\n",
              "                    text-align: center;\n",
              "                    font-size: 16px;\n",
              "                    font-weight: bold;\n",
              "                    color: #555;\n",
              "                    margin: 10px 0;'>\n",
              "                    ... 45 more rows not displayed ...\n",
              "                </div>\n",
              "                "
            ],
            "text/plain": [
              "<IPython.core.display.HTML object>"
            ]
          },
          "metadata": {},
          "output_type": "display_data"
        },
        {
          "data": {
            "text/plain": [
              "16.0"
            ]
          },
          "execution_count": 22,
          "metadata": {},
          "output_type": "execute_result"
        }
      ],
      "source": [
        "evaluate_hotpot = Evaluate(devset=devset[:1000], metric=validate_context_and_answer, num_threads=num_threads, display_progress=True, display_table=5)\n",
        "evaluate_hotpot(compiled_qna, metric=validate_context_and_answer)"
      ]
    },
    {
      "cell_type": "code",
      "execution_count": 21,
      "metadata": {},
      "outputs": [
        {
          "name": "stdout",
          "output_type": "stream",
          "text": [
            "\n",
            "\n",
            "\n",
            "Given the fields `question`, produce the fields `answer`.\n",
            "\n",
            "---\n",
            "\n",
            "Follow the following format.\n",
            "\n",
            "Question: ${question}\n",
            "Reasoning: Let's think step by step in order to ${produce the answer}. We ...\n",
            "Answer: ${answer}\n",
            "\n",
            "---\n",
            "\n",
            "Question: Samantha Cristoforetti and Mark Shuttleworth are both best known for being first in their field to go where?\n",
            "Answer: space\n",
            "\n",
            "---\n",
            "\n",
            "Question: Having the combination of excellent foot speed and bat speed helped Eric Davis, create what kind of outfield for the Los Angeles Dodgers?\n",
            "Answer: \"Outfield of Dreams\"\n",
            "\n",
            "---\n",
            "\n",
            "Question: which American actor was Candace Kita guest starred with\n",
            "Answer: Bill Murray\n",
            "\n",
            "---\n",
            "\n",
            "Question: Tombstone stared an actor born May 17, 1955 known as who?\n",
            "Answer: Bill Paxton\n",
            "\n",
            "---\n",
            "\n",
            "Question: The Organisation that allows a community to influence their operation or use and to enjoy the benefits arisingwas founded in what year?\n",
            "Answer: 2010\n",
            "\n",
            "---\n",
            "\n",
            "Question: Which is taller, the Empire State Building or the Bank of America Tower?\n",
            "Answer: The Empire State Building\n",
            "\n",
            "---\n",
            "\n",
            "Question: This American guitarist best known for her work with the Iron Maidens is an ancestor of a composer who was known as what?\n",
            "Answer: The Waltz King\n",
            "\n",
            "---\n",
            "\n",
            "Question: Which magazine has published articles by Scott Shaw, Tae Kwon Do Times or Southwest Art?\n",
            "Answer: Tae Kwon Do Times\n",
            "\n",
            "---\n",
            "\n",
            "Question: Which American actress who made their film debut in the 1995 teen drama \"Kids\" was the co-founder of Voto Latino?\n",
            "Answer: Rosario Dawson\n",
            "\n",
            "---\n",
            "\n",
            "Question: In what year was the club founded that played Manchester City in the 1972 FA Charity Shield\n",
            "Answer: 1874\n",
            "\n",
            "---\n",
            "\n",
            "Question: What is the code name for the German offensive that started this Second World War engagement on the Eastern Front (a few hundred kilometers from Moscow) between Soviet and German forces, which included 102nd Infantry Division?\n",
            "Answer: Operation Citadel\n",
            "\n",
            "---\n",
            "\n",
            "Question: The Victorians - Their Story In Pictures is a documentary series written by an author born in what year?\n",
            "Answer: 1950\n",
            "\n",
            "---\n",
            "\n",
            "Question: Which of these publications was most recently published, Who Put the Bomp or Self?\n",
            "Answer: Self\n",
            "\n",
            "---\n",
            "\n",
            "Question: Which company distributed this 1977 American animated film produced by Walt Disney Productions for which Sherman Brothers wrote songs?\n",
            "Answer: Buena Vista Distribution\n",
            "\n",
            "---\n",
            "\n",
            "Question: Who is older, Aleksandr Danilovich Aleksandrov or Anatoly Fomenko?\n",
            "Answer: Aleksandr Danilovich Aleksandrov\n",
            "\n",
            "---\n",
            "\n",
            "Question: At My Window was released by which American singer-songwriter?\n",
            "Answer: John Townes Van Zandt\n",
            "\n",
            "---\n",
            "\n",
            "Question: In the 10th Century A.D. Ealhswith had a son called \u00c6thelweard by which English king?\n",
            "Reasoning: Let's think step by step in order to Question: In the 10th Century A.D. Ealhswith had a son called \u00c6thelweard by which English king?\n",
            "Reasoning: Let's think step by step in order to determine the answer. \n",
            "Ealhswith was the wife of an English king in the 10th century A.D. She had a son named \u00c6thelweard. To find out which English king she was married to, we need to research the prominent English kings of that time period.\n",
            "The most well-known English king in the 10th century was King Alfred the Great, who ruled from 871 to 899 A.D. King Alfred had a wife named Ealh\n",
            "\n",
            "\n",
            "\n",
            "\n",
            "\n",
            "Given the fields `question`, produce the fields `answer`.\n",
            "\n",
            "---\n",
            "\n",
            "Follow the following format.\n",
            "\n",
            "Question: ${question}\n",
            "Reasoning: Let's think step by step in order to ${produce the answer}. We ...\n",
            "Answer: ${answer}\n",
            "\n",
            "---\n",
            "\n",
            "Question: Samantha Cristoforetti and Mark Shuttleworth are both best known for being first in their field to go where?\n",
            "Answer: space\n",
            "\n",
            "Question: Having the combination of excellent foot speed and bat speed helped Eric Davis, create what kind of outfield for the Los Angeles Dodgers?\n",
            "Answer: \"Outfield of Dreams\"\n",
            "\n",
            "Question: which American actor was Candace Kita guest starred with\n",
            "Answer: Bill Murray\n",
            "\n",
            "Question: Tombstone stared an actor born May 17, 1955 known as who?\n",
            "Answer: Bill Paxton\n",
            "\n",
            "Question: The Organisation that allows a community to influence their operation or use and to enjoy the benefits arisingwas founded in what year?\n",
            "Answer: 2010\n",
            "\n",
            "Question: Which is taller, the Empire State Building or the Bank of America Tower?\n",
            "Answer: The Empire State Building\n",
            "\n",
            "Question: This American guitarist best known for her work with the Iron Maidens is an ancestor of a composer who was known as what?\n",
            "Answer: The Waltz King\n",
            "\n",
            "Question: Which magazine has published articles by Scott Shaw, Tae Kwon Do Times or Southwest Art?\n",
            "Answer: Tae Kwon Do Times\n",
            "\n",
            "Question: Which American actress who made their film debut in the 1995 teen drama \"Kids\" was the co-founder of Voto Latino?\n",
            "Answer: Rosario Dawson\n",
            "\n",
            "Question: In what year was the club founded that played Manchester City in the 1972 FA Charity Shield\n",
            "Answer: 1874\n",
            "\n",
            "Question: What is the code name for the German offensive that started this Second World War engagement on the Eastern Front (a few hundred kilometers from Moscow) between Soviet and German forces, which included 102nd Infantry Division?\n",
            "Answer: Operation Citadel\n",
            "\n",
            "Question: The Victorians - Their Story In Pictures is a documentary series written by an author born in what year?\n",
            "Answer: 1950\n",
            "\n",
            "Question: Which of these publications was most recently published, Who Put the Bomp or Self?\n",
            "Answer: Self\n",
            "\n",
            "Question: Which company distributed this 1977 American animated film produced by Walt Disney Productions for which Sherman Brothers wrote songs?\n",
            "Answer: Buena Vista Distribution\n",
            "\n",
            "Question: Who is older, Aleksandr Danilovich Aleksandrov or Anatoly Fomenko?\n",
            "Answer: Aleksandr Danilovich Aleksandrov\n",
            "\n",
            "Question: At My Window was released by which American singer-songwriter?\n",
            "Answer: John Townes Van Zandt\n",
            "\n",
            "Question: Gordon Warnecke worked alongside the former senator for which political party on Young Toscanini?\n",
            "Reasoning: Let's think step by step in order to Question: Gordon Warnecke worked alongside the former senator for which political party on Young Toscanini? Reasoning: To determine the political party of the former senator that Gordon Warnecke worked with on Young Toscanini, we need to research the details of this project and the individuals involved. Gordon Warnecke was a British actor who appeared in the 1985 film My Beautiful Laundrette. Young Toscanini was a 1988 television film, but I could not find any definitive information about Gordon Warnecke's involvement in this project. Without more specific details about Gordon Warnecke's role in Young Toscanini\n",
            "Answer: Unfortunately, I do not have enough information to determine which political party the former senator that Gordon Warnecke worked with on Young Toscanini belonged to. The details provided in the question are not sufficient for me to confidently identify the senator or their political affiliation. Without more specific information about Gordon Warnecke's involvement in the project Young\n",
            "\n",
            "\n",
            "\n",
            "\n",
            "\n",
            "Given the fields `question`, produce the fields `answer`.\n",
            "\n",
            "---\n",
            "\n",
            "Follow the following format.\n",
            "\n",
            "Question: ${question}\n",
            "Reasoning: Let's think step by step in order to ${produce the answer}. We ...\n",
            "Answer: ${answer}\n",
            "\n",
            "---\n",
            "\n",
            "Question: Samantha Cristoforetti and Mark Shuttleworth are both best known for being first in their field to go where?\n",
            "Answer: space\n",
            "\n",
            "Question: Having the combination of excellent foot speed and bat speed helped Eric Davis, create what kind of outfield for the Los Angeles Dodgers?\n",
            "Answer: \"Outfield of Dreams\"\n",
            "\n",
            "Question: which American actor was Candace Kita guest starred with\n",
            "Answer: Bill Murray\n",
            "\n",
            "Question: Tombstone stared an actor born May 17, 1955 known as who?\n",
            "Answer: Bill Paxton\n",
            "\n",
            "Question: The Organisation that allows a community to influence their operation or use and to enjoy the benefits arisingwas founded in what year?\n",
            "Answer: 2010\n",
            "\n",
            "Question: Which is taller, the Empire State Building or the Bank of America Tower?\n",
            "Answer: The Empire State Building\n",
            "\n",
            "Question: This American guitarist best known for her work with the Iron Maidens is an ancestor of a composer who was known as what?\n",
            "Answer: The Waltz King\n",
            "\n",
            "Question: Which magazine has published articles by Scott Shaw, Tae Kwon Do Times or Southwest Art?\n",
            "Answer: Tae Kwon Do Times\n",
            "\n",
            "Question: Which American actress who made their film debut in the 1995 teen drama \"Kids\" was the co-founder of Voto Latino?\n",
            "Answer: Rosario Dawson\n",
            "\n",
            "Question: In what year was the club founded that played Manchester City in the 1972 FA Charity Shield\n",
            "Answer: 1874\n",
            "\n",
            "Question: What is the code name for the German offensive that started this Second World War engagement on the Eastern Front (a few hundred kilometers from Moscow) between Soviet and German forces, which included 102nd Infantry Division?\n",
            "Answer: Operation Citadel\n",
            "\n",
            "Question: The Victorians - Their Story In Pictures is a documentary series written by an author born in what year?\n",
            "Answer: 1950\n",
            "\n",
            "Question: Which of these publications was most recently published, Who Put the Bomp or Self?\n",
            "Answer: Self\n",
            "\n",
            "Question: Which company distributed this 1977 American animated film produced by Walt Disney Productions for which Sherman Brothers wrote songs?\n",
            "Answer: Buena Vista Distribution\n",
            "\n",
            "Question: Who is older, Aleksandr Danilovich Aleksandrov or Anatoly Fomenko?\n",
            "Answer: Aleksandr Danilovich Aleksandrov\n",
            "\n",
            "Question: At My Window was released by which American singer-songwriter?\n",
            "Answer: John Townes Van Zandt\n",
            "\n",
            "Question: In the 10th Century A.D. Ealhswith had a son called \u00c6thelweard by which English king?\n",
            "Reasoning: Let's think step by step in order to Question: In the 10th Century A.D. Ealhswith had a son called \u00c6thelweard by which English king? Reasoning: Let's think step by step in order to determine the answer. Ealhswith was the wife of an English king in the 10th century A.D. She had a son named \u00c6thelweard. To find out which English king she was married to, we need to research the prominent English kings of that time period. The most well-known English king in the 10th century was King Alfred the Great, who ruled from 871 to 899 A.D. King Alfred had a wife named Ealh\n",
            "Answer: Question: In the 10th Century A.D. Ealhswith had a son called \u00c6thelweard by which English king?\n",
            "Reasoning: Let's think step by step in order to determine the answer. Ealhswith was the wife of an English king in the 10th century A.D. She had a son name\n",
            "\n",
            "\n",
            "\n"
          ]
        },
        {
          "data": {
            "text/plain": [
              "'\\n\\n\\nGiven the fields `question`, produce the fields `answer`.\\n\\n---\\n\\nFollow the following format.\\n\\nQuestion: ${question}\\nReasoning: Let\\'s think step by step in order to ${produce the answer}. We ...\\nAnswer: ${answer}\\n\\n---\\n\\nQuestion: Samantha Cristoforetti and Mark Shuttleworth are both best known for being first in their field to go where?\\nAnswer: space\\n\\n---\\n\\nQuestion: Having the combination of excellent foot speed and bat speed helped Eric Davis, create what kind of outfield for the Los Angeles Dodgers?\\nAnswer: \"Outfield of Dreams\"\\n\\n---\\n\\nQuestion: which American actor was Candace Kita guest starred with\\nAnswer: Bill Murray\\n\\n---\\n\\nQuestion: Tombstone stared an actor born May 17, 1955 known as who?\\nAnswer: Bill Paxton\\n\\n---\\n\\nQuestion: The Organisation that allows a community to influence their operation or use and to enjoy the benefits arisingwas founded in what year?\\nAnswer: 2010\\n\\n---\\n\\nQuestion: Which is taller, the Empire State Building or the Bank of America Tower?\\nAnswer: The Empire State Building\\n\\n---\\n\\nQuestion: This American guitarist best known for her work with the Iron Maidens is an ancestor of a composer who was known as what?\\nAnswer: The Waltz King\\n\\n---\\n\\nQuestion: Which magazine has published articles by Scott Shaw, Tae Kwon Do Times or Southwest Art?\\nAnswer: Tae Kwon Do Times\\n\\n---\\n\\nQuestion: Which American actress who made their film debut in the 1995 teen drama \"Kids\" was the co-founder of Voto Latino?\\nAnswer: Rosario Dawson\\n\\n---\\n\\nQuestion: In what year was the club founded that played Manchester City in the 1972 FA Charity Shield\\nAnswer: 1874\\n\\n---\\n\\nQuestion: What is the code name for the German offensive that started this Second World War engagement on the Eastern Front (a few hundred kilometers from Moscow) between Soviet and German forces, which included 102nd Infantry Division?\\nAnswer: Operation Citadel\\n\\n---\\n\\nQuestion: The Victorians - Their Story In Pictures is a documentary series written by an author born in what year?\\nAnswer: 1950\\n\\n---\\n\\nQuestion: Which of these publications was most recently published, Who Put the Bomp or Self?\\nAnswer: Self\\n\\n---\\n\\nQuestion: Which company distributed this 1977 American animated film produced by Walt Disney Productions for which Sherman Brothers wrote songs?\\nAnswer: Buena Vista Distribution\\n\\n---\\n\\nQuestion: Who is older, Aleksandr Danilovich Aleksandrov or Anatoly Fomenko?\\nAnswer: Aleksandr Danilovich Aleksandrov\\n\\n---\\n\\nQuestion: At My Window was released by which American singer-songwriter?\\nAnswer: John Townes Van Zandt\\n\\n---\\n\\nQuestion: In the 10th Century A.D. Ealhswith had a son called \u00c6thelweard by which English king?\\nReasoning: Let\\'s think step by step in order to\\x1b[32m Question: In the 10th Century A.D. Ealhswith had a son called \u00c6thelweard by which English king?\\nReasoning: Let\\'s think step by step in order to determine the answer. \\nEalhswith was the wife of an English king in the 10th century A.D. She had a son named \u00c6thelweard. To find out which English king she was married to, we need to research the prominent English kings of that time period.\\nThe most well-known English king in the 10th century was King Alfred the Great, who ruled from 871 to 899 A.D. King Alfred had a wife named Ealh\\x1b[0m\\n\\n\\n\\n\\n\\nGiven the fields `question`, produce the fields `answer`.\\n\\n---\\n\\nFollow the following format.\\n\\nQuestion: ${question}\\nReasoning: Let\\'s think step by step in order to ${produce the answer}. We ...\\nAnswer: ${answer}\\n\\n---\\n\\nQuestion: Samantha Cristoforetti and Mark Shuttleworth are both best known for being first in their field to go where?\\nAnswer: space\\n\\nQuestion: Having the combination of excellent foot speed and bat speed helped Eric Davis, create what kind of outfield for the Los Angeles Dodgers?\\nAnswer: \"Outfield of Dreams\"\\n\\nQuestion: which American actor was Candace Kita guest starred with\\nAnswer: Bill Murray\\n\\nQuestion: Tombstone stared an actor born May 17, 1955 known as who?\\nAnswer: Bill Paxton\\n\\nQuestion: The Organisation that allows a community to influence their operation or use and to enjoy the benefits arisingwas founded in what year?\\nAnswer: 2010\\n\\nQuestion: Which is taller, the Empire State Building or the Bank of America Tower?\\nAnswer: The Empire State Building\\n\\nQuestion: This American guitarist best known for her work with the Iron Maidens is an ancestor of a composer who was known as what?\\nAnswer: The Waltz King\\n\\nQuestion: Which magazine has published articles by Scott Shaw, Tae Kwon Do Times or Southwest Art?\\nAnswer: Tae Kwon Do Times\\n\\nQuestion: Which American actress who made their film debut in the 1995 teen drama \"Kids\" was the co-founder of Voto Latino?\\nAnswer: Rosario Dawson\\n\\nQuestion: In what year was the club founded that played Manchester City in the 1972 FA Charity Shield\\nAnswer: 1874\\n\\nQuestion: What is the code name for the German offensive that started this Second World War engagement on the Eastern Front (a few hundred kilometers from Moscow) between Soviet and German forces, which included 102nd Infantry Division?\\nAnswer: Operation Citadel\\n\\nQuestion: The Victorians - Their Story In Pictures is a documentary series written by an author born in what year?\\nAnswer: 1950\\n\\nQuestion: Which of these publications was most recently published, Who Put the Bomp or Self?\\nAnswer: Self\\n\\nQuestion: Which company distributed this 1977 American animated film produced by Walt Disney Productions for which Sherman Brothers wrote songs?\\nAnswer: Buena Vista Distribution\\n\\nQuestion: Who is older, Aleksandr Danilovich Aleksandrov or Anatoly Fomenko?\\nAnswer: Aleksandr Danilovich Aleksandrov\\n\\nQuestion: At My Window was released by which American singer-songwriter?\\nAnswer: John Townes Van Zandt\\n\\nQuestion: Gordon Warnecke worked alongside the former senator for which political party on Young Toscanini?\\nReasoning: Let\\'s think step by step in order to Question: Gordon Warnecke worked alongside the former senator for which political party on Young Toscanini? Reasoning: To determine the political party of the former senator that Gordon Warnecke worked with on Young Toscanini, we need to research the details of this project and the individuals involved. Gordon Warnecke was a British actor who appeared in the 1985 film My Beautiful Laundrette. Young Toscanini was a 1988 television film, but I could not find any definitive information about Gordon Warnecke\\'s involvement in this project. Without more specific details about Gordon Warnecke\\'s role in Young Toscanini\\nAnswer:\\x1b[32m Unfortunately, I do not have enough information to determine which political party the former senator that Gordon Warnecke worked with on Young Toscanini belonged to. The details provided in the question are not sufficient for me to confidently identify the senator or their political affiliation. Without more specific information about Gordon Warnecke\\'s involvement in the project Young\\x1b[0m\\n\\n\\n\\n\\n\\nGiven the fields `question`, produce the fields `answer`.\\n\\n---\\n\\nFollow the following format.\\n\\nQuestion: ${question}\\nReasoning: Let\\'s think step by step in order to ${produce the answer}. We ...\\nAnswer: ${answer}\\n\\n---\\n\\nQuestion: Samantha Cristoforetti and Mark Shuttleworth are both best known for being first in their field to go where?\\nAnswer: space\\n\\nQuestion: Having the combination of excellent foot speed and bat speed helped Eric Davis, create what kind of outfield for the Los Angeles Dodgers?\\nAnswer: \"Outfield of Dreams\"\\n\\nQuestion: which American actor was Candace Kita guest starred with\\nAnswer: Bill Murray\\n\\nQuestion: Tombstone stared an actor born May 17, 1955 known as who?\\nAnswer: Bill Paxton\\n\\nQuestion: The Organisation that allows a community to influence their operation or use and to enjoy the benefits arisingwas founded in what year?\\nAnswer: 2010\\n\\nQuestion: Which is taller, the Empire State Building or the Bank of America Tower?\\nAnswer: The Empire State Building\\n\\nQuestion: This American guitarist best known for her work with the Iron Maidens is an ancestor of a composer who was known as what?\\nAnswer: The Waltz King\\n\\nQuestion: Which magazine has published articles by Scott Shaw, Tae Kwon Do Times or Southwest Art?\\nAnswer: Tae Kwon Do Times\\n\\nQuestion: Which American actress who made their film debut in the 1995 teen drama \"Kids\" was the co-founder of Voto Latino?\\nAnswer: Rosario Dawson\\n\\nQuestion: In what year was the club founded that played Manchester City in the 1972 FA Charity Shield\\nAnswer: 1874\\n\\nQuestion: What is the code name for the German offensive that started this Second World War engagement on the Eastern Front (a few hundred kilometers from Moscow) between Soviet and German forces, which included 102nd Infantry Division?\\nAnswer: Operation Citadel\\n\\nQuestion: The Victorians - Their Story In Pictures is a documentary series written by an author born in what year?\\nAnswer: 1950\\n\\nQuestion: Which of these publications was most recently published, Who Put the Bomp or Self?\\nAnswer: Self\\n\\nQuestion: Which company distributed this 1977 American animated film produced by Walt Disney Productions for which Sherman Brothers wrote songs?\\nAnswer: Buena Vista Distribution\\n\\nQuestion: Who is older, Aleksandr Danilovich Aleksandrov or Anatoly Fomenko?\\nAnswer: Aleksandr Danilovich Aleksandrov\\n\\nQuestion: At My Window was released by which American singer-songwriter?\\nAnswer: John Townes Van Zandt\\n\\nQuestion: In the 10th Century A.D. Ealhswith had a son called \u00c6thelweard by which English king?\\nReasoning: Let\\'s think step by step in order to Question: In the 10th Century A.D. Ealhswith had a son called \u00c6thelweard by which English king? Reasoning: Let\\'s think step by step in order to determine the answer. Ealhswith was the wife of an English king in the 10th century A.D. She had a son named \u00c6thelweard. To find out which English king she was married to, we need to research the prominent English kings of that time period. The most well-known English king in the 10th century was King Alfred the Great, who ruled from 871 to 899 A.D. King Alfred had a wife named Ealh\\nAnswer:\\x1b[32m Question: In the 10th Century A.D. Ealhswith had a son called \u00c6thelweard by which English king?\\nReasoning: Let\\'s think step by step in order to determine the answer. Ealhswith was the wife of an English king in the 10th century A.D. She had a son name\\x1b[0m\\n\\n\\n'"
            ]
          },
          "execution_count": 21,
          "metadata": {},
          "output_type": "execute_result"
        }
      ],
      "source": [
        "claude.inspect_history(n=3)"
      ]
    }
  ],
  "metadata": {
    "kernelspec": {
      "display_name": "venv",
      "language": "python",
      "name": "python3"
    },
    "language_info": {
      "codemirror_mode": {
        "name": "ipython",
        "version": 3
      },
      "file_extension": ".py",
      "mimetype": "text/x-python",
      "name": "python",
      "nbconvert_exporter": "python",
      "pygments_lexer": "ipython3",
      "version": "3.12.4"
    }
  },
  "nbformat": 4,
  "nbformat_minor": 2
}
